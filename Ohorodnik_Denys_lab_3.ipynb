{
  "nbformat": 4,
  "nbformat_minor": 0,
  "metadata": {
    "colab": {
      "name": "Ohorodnik Denys lab#3.ipynb",
      "version": "0.3.2",
      "provenance": [],
      "collapsed_sections": [],
      "toc_visible": true,
      "include_colab_link": true
    },
    "kernelspec": {
      "name": "python3",
      "display_name": "Python 3"
    }
  },
  "cells": [
    {
      "cell_type": "markdown",
      "metadata": {
        "id": "view-in-github",
        "colab_type": "text"
      },
      "source": [
        "<a href=\"https://colab.research.google.com/github/Den4ik18/EMSE/blob/master/Ohorodnik_Denys_lab_3.ipynb\" target=\"_parent\"><img src=\"https://colab.research.google.com/assets/colab-badge.svg\" alt=\"Open In Colab\"/></a>"
      ]
    },
    {
      "metadata": {
        "id": "KKgF186NTBqj",
        "colab_type": "text"
      },
      "cell_type": "markdown",
      "source": [
        "# T - розподіл"
      ]
    },
    {
      "metadata": {
        "id": "pFPyWCP1TTD4",
        "colab_type": "text"
      },
      "cell_type": "markdown",
      "source": [
        "Ініціалізація датасету"
      ]
    },
    {
      "metadata": {
        "id": "0BMb0tc_TFRI",
        "colab_type": "code",
        "outputId": "10b7746c-168b-4b96-ffa2-0f4b4fa5a07d",
        "colab": {
          "base_uri": "https://localhost:8080/",
          "height": 564
        }
      },
      "cell_type": "code",
      "source": [
        "# підключимо бібліотеку pandas для обробки даних (вона вже встановлена в Colab)\n",
        "import pandas as pd\n",
        "\n",
        "# зазначимо url звідки ми візьмемо дані\n",
        "url = \"http://www.sharecsv.com/dl/70792028b87f9e5072133ce87c32a8a7/googleplaystore.csv\"\n",
        "\n",
        "# створимо pandas Dataframe з csv-файлу, який ми отримаємо по вищезазначеному url\n",
        "# Dataframe надасть нам необхідні можливості для обробки даних\n",
        "df = pd.read_csv(url)\n",
        "\n",
        "# очистимо dataframe, підготуємо його до бажаного вигляду\n",
        "#df.set_index('App', inplace=True)  # встановимо колонку з іменем '№' як індекс dataframe'у\n",
        "\n",
        "# конвертуємо колонку \"Reviews\" у числові значення.\n",
        "df['Reviews'] = pd.to_numeric(df['Reviews'], errors='coerce')\n",
        "\n",
        "# відобразимо перші 5 записів у датафреймі\n",
        "df.head()"
      ],
      "execution_count": 0,
      "outputs": [
        {
          "output_type": "execute_result",
          "data": {
            "text/html": [
              "<div>\n",
              "<style scoped>\n",
              "    .dataframe tbody tr th:only-of-type {\n",
              "        vertical-align: middle;\n",
              "    }\n",
              "\n",
              "    .dataframe tbody tr th {\n",
              "        vertical-align: top;\n",
              "    }\n",
              "\n",
              "    .dataframe thead th {\n",
              "        text-align: right;\n",
              "    }\n",
              "</style>\n",
              "<table border=\"1\" class=\"dataframe\">\n",
              "  <thead>\n",
              "    <tr style=\"text-align: right;\">\n",
              "      <th></th>\n",
              "      <th>App</th>\n",
              "      <th>Category</th>\n",
              "      <th>Rating</th>\n",
              "      <th>Reviews</th>\n",
              "      <th>Size</th>\n",
              "      <th>Installs</th>\n",
              "      <th>Type</th>\n",
              "      <th>Price</th>\n",
              "      <th>Content Rating</th>\n",
              "      <th>Genres</th>\n",
              "      <th>Last Updated</th>\n",
              "      <th>Current Ver</th>\n",
              "      <th>Android Ver</th>\n",
              "    </tr>\n",
              "  </thead>\n",
              "  <tbody>\n",
              "    <tr>\n",
              "      <th>0</th>\n",
              "      <td>Photo Editor &amp; Candy Camera &amp; Grid &amp; ScrapBook</td>\n",
              "      <td>ART_AND_DESIGN</td>\n",
              "      <td>4.1</td>\n",
              "      <td>159.0</td>\n",
              "      <td>19M</td>\n",
              "      <td>10,000+</td>\n",
              "      <td>Free</td>\n",
              "      <td>0</td>\n",
              "      <td>Everyone</td>\n",
              "      <td>Art &amp; Design</td>\n",
              "      <td>January 7, 2018</td>\n",
              "      <td>1.0.0</td>\n",
              "      <td>4.0.3 and up</td>\n",
              "    </tr>\n",
              "    <tr>\n",
              "      <th>1</th>\n",
              "      <td>Coloring book moana</td>\n",
              "      <td>ART_AND_DESIGN</td>\n",
              "      <td>3.9</td>\n",
              "      <td>967.0</td>\n",
              "      <td>14M</td>\n",
              "      <td>500,000+</td>\n",
              "      <td>Free</td>\n",
              "      <td>0</td>\n",
              "      <td>Everyone</td>\n",
              "      <td>Art &amp; Design;Pretend Play</td>\n",
              "      <td>January 15, 2018</td>\n",
              "      <td>2.0.0</td>\n",
              "      <td>4.0.3 and up</td>\n",
              "    </tr>\n",
              "    <tr>\n",
              "      <th>2</th>\n",
              "      <td>U Launcher Lite – FREE Live Cool Themes, Hide ...</td>\n",
              "      <td>ART_AND_DESIGN</td>\n",
              "      <td>4.7</td>\n",
              "      <td>87510.0</td>\n",
              "      <td>8.7M</td>\n",
              "      <td>5,000,000+</td>\n",
              "      <td>Free</td>\n",
              "      <td>0</td>\n",
              "      <td>Everyone</td>\n",
              "      <td>Art &amp; Design</td>\n",
              "      <td>August 1, 2018</td>\n",
              "      <td>1.2.4</td>\n",
              "      <td>4.0.3 and up</td>\n",
              "    </tr>\n",
              "    <tr>\n",
              "      <th>3</th>\n",
              "      <td>Sketch - Draw &amp; Paint</td>\n",
              "      <td>ART_AND_DESIGN</td>\n",
              "      <td>4.5</td>\n",
              "      <td>215644.0</td>\n",
              "      <td>25M</td>\n",
              "      <td>50,000,000+</td>\n",
              "      <td>Free</td>\n",
              "      <td>0</td>\n",
              "      <td>Teen</td>\n",
              "      <td>Art &amp; Design</td>\n",
              "      <td>June 8, 2018</td>\n",
              "      <td>Varies with device</td>\n",
              "      <td>4.2 and up</td>\n",
              "    </tr>\n",
              "    <tr>\n",
              "      <th>4</th>\n",
              "      <td>Pixel Draw - Number Art Coloring Book</td>\n",
              "      <td>ART_AND_DESIGN</td>\n",
              "      <td>4.3</td>\n",
              "      <td>967.0</td>\n",
              "      <td>2.8M</td>\n",
              "      <td>100,000+</td>\n",
              "      <td>Free</td>\n",
              "      <td>0</td>\n",
              "      <td>Everyone</td>\n",
              "      <td>Art &amp; Design;Creativity</td>\n",
              "      <td>June 20, 2018</td>\n",
              "      <td>1.1</td>\n",
              "      <td>4.4 and up</td>\n",
              "    </tr>\n",
              "  </tbody>\n",
              "</table>\n",
              "</div>"
            ],
            "text/plain": [
              "                                                 App        Category  Rating  \\\n",
              "0     Photo Editor & Candy Camera & Grid & ScrapBook  ART_AND_DESIGN     4.1   \n",
              "1                                Coloring book moana  ART_AND_DESIGN     3.9   \n",
              "2  U Launcher Lite – FREE Live Cool Themes, Hide ...  ART_AND_DESIGN     4.7   \n",
              "3                              Sketch - Draw & Paint  ART_AND_DESIGN     4.5   \n",
              "4              Pixel Draw - Number Art Coloring Book  ART_AND_DESIGN     4.3   \n",
              "\n",
              "    Reviews  Size     Installs  Type Price Content Rating  \\\n",
              "0     159.0   19M      10,000+  Free     0       Everyone   \n",
              "1     967.0   14M     500,000+  Free     0       Everyone   \n",
              "2   87510.0  8.7M   5,000,000+  Free     0       Everyone   \n",
              "3  215644.0   25M  50,000,000+  Free     0           Teen   \n",
              "4     967.0  2.8M     100,000+  Free     0       Everyone   \n",
              "\n",
              "                      Genres      Last Updated         Current Ver  \\\n",
              "0               Art & Design   January 7, 2018               1.0.0   \n",
              "1  Art & Design;Pretend Play  January 15, 2018               2.0.0   \n",
              "2               Art & Design    August 1, 2018               1.2.4   \n",
              "3               Art & Design      June 8, 2018  Varies with device   \n",
              "4    Art & Design;Creativity     June 20, 2018                 1.1   \n",
              "\n",
              "    Android Ver  \n",
              "0  4.0.3 and up  \n",
              "1  4.0.3 and up  \n",
              "2  4.0.3 and up  \n",
              "3    4.2 and up  \n",
              "4    4.4 and up  "
            ]
          },
          "metadata": {
            "tags": []
          },
          "execution_count": 6
        }
      ]
    },
    {
      "metadata": {
        "id": "cHJp1svszrJv",
        "colab_type": "code",
        "outputId": "3d30f48c-b20a-4d3a-a261-edcc86429a60",
        "colab": {
          "base_uri": "https://localhost:8080/",
          "height": 487
        }
      },
      "cell_type": "code",
      "source": [
        "#T-розподіл \n",
        "# import matplotlib.pyplot as plt\n",
        "from matplotlib import pyplot as plt\n",
        "import numpy as np\n",
        "from scipy import stats\n",
        "\n",
        "# x = np.arange(-4,4,0.1)\n",
        "#y = df['Rating'].tolist()\n",
        "# Знаходимо мінімальне та максимальне значення в колонці \"Rating\"\n",
        "minValue = df['Rating'].min()\n",
        "maxValue = df['Rating'].max()\n",
        "\n",
        "#T-розподіл будемо виконувати від minValue до maxValue збільшуючи значення на 0.1\n",
        "x = np.arange(minValue,maxValue,0.1)\n",
        "\n",
        "\n",
        "tvals1 = stats.t.pdf(x,2)\n",
        "tvals2 = stats.t.pdf(x,30)\n",
        "\n",
        "plt.plot(x,tvals1,x,tvals2)\n",
        "plt.text(0,0.05,\"First\",color = \"red\")\n",
        "plt.annotate(\"Second\",xy=(1,0.25),xytext = (3,0.35),arrowprops=dict(facecolor=\"black\",shrink=0.025,width=1,headwidth=3),color=\"red\")\n"
      ],
      "execution_count": 0,
      "outputs": [
        {
          "output_type": "execute_result",
          "data": {
            "text/plain": [
              "Text(3,0.35,'Second')"
            ]
          },
          "metadata": {
            "tags": []
          },
          "execution_count": 14
        },
        {
          "output_type": "display_data",
          "data": {
            "image/png": "[encoded data removed]",
            "text/plain": [
              "<matplotlib.figure.Figure at 0x7fafeb100550>"
            ]
          },
          "metadata": {
            "tags": []
          }
        }
      ]
    },
    {
      "metadata": {
        "id": "jgYwvM1wq7hD",
        "colab_type": "code",
        "outputId": "9bd1e698-d092-447d-ce6c-7898fa8375ed",
        "colab": {
          "base_uri": "https://localhost:8080/",
          "height": 282
        }
      },
      "cell_type": "code",
      "source": [
        "#Student’s t distribution\n",
        "import numpy as np\n",
        "from scipy.stats import t as student_t\n",
        "from matplotlib import pyplot as plt\n",
        "\n",
        "#----------------------------------------------------------------------\n",
        "# This function adjusts matplotlib settings for a uniform feel in the textbook.\n",
        "# Note that with usetex=True, fonts are rendered with LaTeX.  This may\n",
        "# result in an error if LaTeX is not installed on your system.  In that case,\n",
        "# you can set usetex to False.\n",
        "# from astroML.plotting import setup_text_plots\n",
        "# setup_text_plots(fontsize=8, usetex=True)\n",
        "\n",
        "#------------------------------------------------------------\n",
        "# Define the distribution parameters to be plotted\n",
        "mu = 0\n",
        "k_values = [1E10, 2, 10, 30]\n",
        "linestyles = ['-', '--', ':', '-.']\n",
        "# x = np.linspace(-10, 10, 1000)\n",
        "minValue = df['Rating'].min()\n",
        "maxValue = df['Rating'].max()\n",
        "\n",
        "#T-розподіл будемо виконувати від minValue до maxValue збільшуючи значення на 0.1\n",
        "x = np.arange(minValue,maxValue,0.3)\n",
        "\n",
        "#------------------------------------------------------------\n",
        "# plot the distributions\n",
        "fig, ax = plt.subplots(figsize=(5, 3.75))\n",
        "\n",
        "for k, ls in zip(k_values, linestyles):\n",
        "    dist = student_t(k, 0)\n",
        "\n",
        "    if k >= 1E10:\n",
        "        label = r'$\\mathrm{t}(k=\\infty)$'\n",
        "    else:\n",
        "        label = r'$\\mathrm{t}(k=%.1f)$' % k\n",
        "\n",
        "    plt.plot(x, dist.pdf(x), ls=ls, c='black', label=label)\n",
        "\n",
        "plt.xlim(-2, 10)\n",
        "plt.ylim(0.0, 0.45)\n",
        "\n",
        "plt.xlabel('$x$')\n",
        "plt.ylabel(r'$p(x|k)$')\n",
        "plt.title(\"Student's $t$ Distribution\")\n",
        "\n",
        "plt.legend()\n",
        "plt.show()"
      ],
      "execution_count": 0,
      "outputs": [
        {
          "output_type": "display_data",
          "data": {
            "image/png": "[encoded data removed]",
            "text/plain": [
              "<matplotlib.figure.Figure at 0x7fafeb043588>"
            ]
          },
          "metadata": {
            "tags": []
          }
        }
      ]
    },
    {
      "metadata": {
        "id": "MruSvAVpWDdb",
        "colab_type": "text"
      },
      "cell_type": "markdown",
      "source": [
        "# t - критерій Стьюдента"
      ]
    },
    {
      "metadata": {
        "id": "uBVLxCcMWMUM",
        "colab_type": "code",
        "outputId": "5de6fb4d-c69c-4d72-81bc-98122a66bec2",
        "colab": {
          "base_uri": "https://localhost:8080/",
          "height": 282
        }
      },
      "cell_type": "code",
      "source": [
        "\n",
        "\n",
        "#T-розподіл \n",
        "# import matplotlib.pyplot as plt\n",
        "from matplotlib import pyplot as plt\n",
        "import numpy as np\n",
        "from scipy import stats\n",
        "\n",
        "# x = np.arange(-4,4,0.1)\n",
        "#y = df['Rating'].tolist()\n",
        "\n",
        "averageRating = df['Rating'].mean()\n",
        "averageReviews = df['Reviews'].mean()\n",
        "\n",
        "\n",
        "x = np.arange(averageRating,averageReviews,5)\n",
        "\n",
        "\n",
        "mu = 0\n",
        "k_values = [2, 30]\n",
        "linestyles = ['-', '--', ':', '-.']\n",
        "\n",
        "\n",
        "fig, ax = plt.subplots(figsize=(5, 3.75))\n",
        "\n",
        "for k, ls in zip(k_values, linestyles):\n",
        "    dist = student_t(k, 0)\n",
        "\n",
        "    if k >= 1E10:\n",
        "        label = r'$\\mathrm{t}(k=\\infty)$'\n",
        "    else:\n",
        "        label = r'$\\mathrm{t}(k=%.1f)$' % k\n",
        "\n",
        "    plt.plot(x, dist.pdf(x), ls=ls, c='black', label=label)\n",
        "\n",
        "plt.xlim(3, 10)\n",
        "plt.ylim(0.0, 0.45)\n",
        "\n",
        "plt.xlabel('$x$')\n",
        "plt.ylabel(r'$p(x|k)$')\n",
        "plt.title(\"Student's $t$ Distribution\")\n",
        "\n",
        "plt.legend()\n",
        "plt.show()"
      ],
      "execution_count": 0,
      "outputs": [
        {
          "output_type": "display_data",
          "data": {
            "image/png": "[encoded data removed]",
            "text/plain": [
              "<matplotlib.figure.Figure at 0x7fafeaf0e940>"
            ]
          },
          "metadata": {
            "tags": []
          }
        }
      ]
    },
    {
      "metadata": {
        "id": "B5hiObvuWIh5",
        "colab_type": "text"
      },
      "cell_type": "markdown",
      "source": [
        "# QQ - plot"
      ]
    },
    {
      "metadata": {
        "id": "YxEKl-0gWu0n",
        "colab_type": "code",
        "outputId": "e54215fc-0652-4805-a729-a8345060c20a",
        "colab": {
          "base_uri": "https://localhost:8080/",
          "height": 361
        }
      },
      "cell_type": "code",
      "source": [
        "import numpy as np \n",
        "import pylab \n",
        "import scipy.stats as stats\n",
        "from statsmodels.graphics.gofplots import qqplot\n",
        "from matplotlib import pyplot\n",
        "\n",
        "y = df['Rating'].tolist()\n",
        "\n",
        "X = np.array(y)\n",
        "\n",
        "# measurements = np.random.binomial(loc = 30, scale = 10, size=1000)   \n",
        "# measurements\n",
        "#stats.probplot(y, dist=\"norm\", plot=pylab)\n",
        "\n",
        "\n",
        "qqplot(X,line='s')\n",
        "\n",
        "#pylab.show()\n",
        "pyplot.show()"
      ],
      "execution_count": 0,
      "outputs": [
        {
          "output_type": "display_data",
          "data": {
            "image/png": "[encoded data removed]",
            "text/plain": [
              "<matplotlib.figure.Figure at 0x7f683dd61710>"
            ]
          },
          "metadata": {
            "tags": []
          }
        }
      ]
    },
    {
      "metadata": {
        "id": "XC9OP8JwnUfZ",
        "colab_type": "text"
      },
      "cell_type": "markdown",
      "source": [
        "**По осій Y ми маємо значення колонки Reviews, а по осі X - значення Rating**\n"
      ]
    },
    {
      "metadata": {
        "id": "7Zmflr6SWUlr",
        "colab_type": "text"
      },
      "cell_type": "markdown",
      "source": [
        "# ОДА"
      ]
    },
    {
      "metadata": {
        "id": "6bLeiZ4tWKJP",
        "colab_type": "code",
        "outputId": "6cbbaf6d-a0c9-47e4-89e4-203255c00f19",
        "colab": {
          "base_uri": "https://localhost:8080/",
          "height": 34
        }
      },
      "cell_type": "code",
      "source": [
        "import pandas as pd\n",
        "import scipy.stats as stats\n",
        "\n",
        "#Заміняємо NaN на 0.0\n",
        "df['Reviews'].fillna(0.0,inplace=True)\n",
        "df['Rating'].fillna(0.0,inplace=True)\n",
        "samples=[list(frame) for group,frame in df.groupby('Rating')['Reviews']]\n",
        "stats.f_oneway(*samples)\n",
        "#pvalue вийшло настільки мале тому що довжина рядків Rating та Reviews біліше 10 000\n",
        "#і тому при обчислені виходить досить мале відхилення\n",
        "#Це свідчить про те що між значеннями є мала різнця"
      ],
      "execution_count": 0,
      "outputs": [
        {
          "output_type": "execute_result",
          "data": {
            "text/plain": [
              "F_onewayResult(statistic=5.878860983064541, pvalue=4.457644953708342e-29)"
            ]
          },
          "metadata": {
            "tags": []
          },
          "execution_count": 5
        }
      ]
    },
    {
      "metadata": {
        "id": "KDc6x8auBeme",
        "colab_type": "text"
      },
      "cell_type": "markdown",
      "source": [
        "##T-test"
      ]
    },
    {
      "metadata": {
        "id": "Tg0r1eH1WsqA",
        "colab_type": "code",
        "outputId": "3a3b8426-df2d-4050-cc30-25fe12a77140",
        "colab": {
          "base_uri": "https://localhost:8080/",
          "height": 34
        }
      },
      "cell_type": "code",
      "source": [
        "#T-test\n",
        "from scipy.stats import ttest_ind\n",
        "\n",
        "cat1 = df[df['Rating']==4.7]\n",
        "cat2 = df[df['Rating']==4.3]\n",
        "\n",
        "ttest_ind(cat1['Reviews'], cat2['Reviews'])\n"
      ],
      "execution_count": 0,
      "outputs": [
        {
          "output_type": "execute_result",
          "data": {
            "text/plain": [
              "Ttest_indResult(statistic=-1.7415475504675217, pvalue=0.08178313015884367)"
            ]
          },
          "metadata": {
            "tags": []
          },
          "execution_count": 40
        }
      ]
    },
    {
      "metadata": {
        "id": "KduodbZzCg2A",
        "colab_type": "text"
      },
      "cell_type": "markdown",
      "source": [
        "##KS-test"
      ]
    },
    {
      "metadata": {
        "id": "FlNGDXXWcLQT",
        "colab_type": "code",
        "outputId": "a42abca8-bdf6-4dc5-b6ab-a8180c8cdc41",
        "colab": {
          "base_uri": "https://localhost:8080/",
          "height": 34
        }
      },
      "cell_type": "code",
      "source": [
        "#KS-test\n",
        "from scipy.stats import ks_2samp\n",
        "import numpy as np\n",
        "\n",
        "x = df['Rating'].tolist()\n",
        "y = df['Reviews'].tolist()\n",
        "np.random.seed(12345678)\n",
        "# x = np.random.normal(0, 1, 1000)\n",
        "# y = np.random.normal(0, 1, 1000)\n",
        "\n",
        "\n",
        "ks_2samp(x, y)\n"
      ],
      "execution_count": 0,
      "outputs": [
        {
          "output_type": "execute_result",
          "data": {
            "text/plain": [
              "Ks_2sampResult(statistic=0.8612674107554654, pvalue=0.0)"
            ]
          },
          "metadata": {
            "tags": []
          },
          "execution_count": 29
        }
      ]
    },
    {
      "metadata": {
        "id": "Rp8O6ZMSos0w",
        "colab_type": "text"
      },
      "cell_type": "markdown",
      "source": [
        "** Чим ближче значення p до 0 тим більша ймовірність того, що два зразки були зроблені з одного і того ж розподілу**"
      ]
    },
    {
      "metadata": {
        "id": "2rJnxvQYDlov",
        "colab_type": "text"
      },
      "cell_type": "markdown",
      "source": [
        "##Special tests for normal distributions"
      ]
    },
    {
      "metadata": {
        "id": "TfhCX6DUc7Gu",
        "colab_type": "code",
        "outputId": "bef62b35-df44-4f76-b43b-7e566cc511e2",
        "colab": {
          "base_uri": "https://localhost:8080/",
          "height": 34
        }
      },
      "cell_type": "code",
      "source": [
        "\n",
        "from scipy.stats import ks_2samp\n",
        "import numpy as np\n",
        "\n",
        "x = df['Rating'].tolist()\n",
        "y = df['Reviews'].tolist()\n",
        "# np.random.seed(12345678)\n",
        "# x = np.random.normal(0, 1, 1000)\n",
        "# y = np.random.normal(0, 1, 1000)\n",
        "\n",
        "\n",
        "stats.normaltest(x)"
      ],
      "execution_count": 0,
      "outputs": [
        {
          "output_type": "execute_result",
          "data": {
            "text/plain": [
              "NormaltestResult(statistic=3166.265331580163, pvalue=0.0)"
            ]
          },
          "metadata": {
            "tags": []
          },
          "execution_count": 8
        }
      ]
    },
    {
      "metadata": {
        "id": "l8p5mrh6qjQ_",
        "colab_type": "text"
      },
      "cell_type": "markdown",
      "source": [
        "T-test (statistic=-1.7415475504675217, pvalue=0.08178313015884367)\n",
        "Ks_2Test(statistic=0.8612674107554654, pvalue=0.0)"
      ]
    },
    {
      "metadata": {
        "id": "Wk4owN1kC3ST",
        "colab_type": "text"
      },
      "cell_type": "markdown",
      "source": [
        "##Comparing two sample"
      ]
    },
    {
      "metadata": {
        "id": "_Ku6wAUAevn0",
        "colab_type": "code",
        "outputId": "8a41e7c1-6ce0-4087-c147-5f3a449513b8",
        "colab": {
          "base_uri": "https://localhost:8080/",
          "height": 34
        }
      },
      "cell_type": "code",
      "source": [
        "#Comparing two samples\n",
        "x = df['Reviews'].tolist()\n",
        "y = df['Rating'].tolist()\n",
        "\n",
        "rvs1 = stats.norm.rvs(x)\n",
        "rvs2 = stats.norm.rvs(y)\n",
        "stats.ttest_ind(rvs1, rvs2)"
      ],
      "execution_count": 0,
      "outputs": [
        {
          "output_type": "execute_result",
          "data": {
            "text/plain": [
              "Ttest_indResult(statistic=15.794562401935591, pvalue=6.952747556477929e-56)"
            ]
          },
          "metadata": {
            "tags": []
          },
          "execution_count": 6
        }
      ]
    },
    {
      "metadata": {
        "id": "6czronzaW46x",
        "colab_type": "text"
      },
      "cell_type": "markdown",
      "source": [
        "# Контрольні запитання"
      ]
    },
    {
      "metadata": {
        "id": "cViNFpviW8VQ",
        "colab_type": "text"
      },
      "cell_type": "markdown",
      "source": [
        "1. Опишіть своїми словами на прикладі свого датасету процес порівняння 2х середніх, мету його застосування та технології/тулзи/засоби, які при цьому використовуються.\n",
        "\n",
        "При порівнянні двох середніх використовується t-критерій Стьюдента. Метою його застосування є знаходження відмінності між двома середніми значеннями якоїсь вибірки. При цих порівняннях застосоються такі технології як:  scipy, numpy. \n"
      ]
    }
  ]
}