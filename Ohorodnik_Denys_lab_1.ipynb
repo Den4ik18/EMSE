{
  "nbformat": 4,
  "nbformat_minor": 0,
  "metadata": {
    "colab": {
      "name": "Ohorodnik Denys lab#1",
      "version": "0.3.2",
      "provenance": [],
      "collapsed_sections": [],
      "toc_visible": true,
      "include_colab_link": true
    },
    "kernelspec": {
      "name": "python3",
      "display_name": "Python 3"
    }
  },
  "cells": [
    {
      "cell_type": "markdown",
      "metadata": {
        "id": "view-in-github",
        "colab_type": "text"
      },
      "source": [
        "<a href=\"https://colab.research.google.com/github/Den4ik18/EMSE/blob/master/Ohorodnik_Denys_lab_1.ipynb\" target=\"_parent\"><img src=\"https://colab.research.google.com/assets/colab-badge.svg\" alt=\"Open In Colab\"/></a>"
      ]
    },
    {
      "metadata": {
        "id": "nf6hq-x_vCsy",
        "colab_type": "text"
      },
      "cell_type": "markdown",
      "source": [
        "# Практична частина 1"
      ]
    },
    {
      "metadata": {
        "id": "WSZDIO_tvJEE",
        "colab_type": "text"
      },
      "cell_type": "markdown",
      "source": [
        "\n",
        "\n",
        "\n",
        "\n",
        "## Підготовка даних"
      ]
    },
    {
      "metadata": {
        "id": "WZ-G8BYMvbD9",
        "colab_type": "code",
        "outputId": "cda76f11-6f78-4eb1-8179-7c93f14c92c5",
        "colab": {
          "base_uri": "https://localhost:8080/",
          "height": 340
        }
      },
      "cell_type": "code",
      "source": [
        "import pandas as pd\n",
        "\n",
        "#url = \"https://gitlab.com/Den4ik19/emise/raw/master/datasets/playstore/googleplaystore.csv\"\n",
        "#url = \"https://www.kaggle.com/lava18/google-play-store-apps/downloads/googleplaystore.csv/5\"\n",
        "#!wget -O test.csv \"https://gitlab.com/Den4ik19/emise/raw/master/datasets/playstore/googleplaystore.csv\"\n",
        "\n",
        "\n",
        "\n",
        "#df = pd.read_csv(url,encoding = \"utf-8\")\n",
        "#df.tail()\n",
        "url = \"http://www.sharecsv.com/dl/70792028b87f9e5072133ce87c32a8a7/googleplaystore.csv\"\n",
        "df = pd.read_csv(url)\n",
        "df.head()\n"
      ],
      "execution_count": 0,
      "outputs": [
        {
          "output_type": "execute_result",
          "data": {
            "text/html": [
              "<div>\n",
              "<style scoped>\n",
              "    .dataframe tbody tr th:only-of-type {\n",
              "        vertical-align: middle;\n",
              "    }\n",
              "\n",
              "    .dataframe tbody tr th {\n",
              "        vertical-align: top;\n",
              "    }\n",
              "\n",
              "    .dataframe thead th {\n",
              "        text-align: right;\n",
              "    }\n",
              "</style>\n",
              "<table border=\"1\" class=\"dataframe\">\n",
              "  <thead>\n",
              "    <tr style=\"text-align: right;\">\n",
              "      <th></th>\n",
              "      <th>App</th>\n",
              "      <th>Category</th>\n",
              "      <th>Rating</th>\n",
              "      <th>Reviews</th>\n",
              "      <th>Size</th>\n",
              "      <th>Installs</th>\n",
              "      <th>Type</th>\n",
              "      <th>Price</th>\n",
              "      <th>Content Rating</th>\n",
              "      <th>Genres</th>\n",
              "      <th>Last Updated</th>\n",
              "      <th>Current Ver</th>\n",
              "      <th>Android Ver</th>\n",
              "    </tr>\n",
              "  </thead>\n",
              "  <tbody>\n",
              "    <tr>\n",
              "      <th>0</th>\n",
              "      <td>Photo Editor &amp; Candy Camera &amp; Grid &amp; ScrapBook</td>\n",
              "      <td>ART_AND_DESIGN</td>\n",
              "      <td>4.1</td>\n",
              "      <td>159</td>\n",
              "      <td>19M</td>\n",
              "      <td>10,000+</td>\n",
              "      <td>Free</td>\n",
              "      <td>0</td>\n",
              "      <td>Everyone</td>\n",
              "      <td>Art &amp; Design</td>\n",
              "      <td>January 7, 2018</td>\n",
              "      <td>1.0.0</td>\n",
              "      <td>4.0.3 and up</td>\n",
              "    </tr>\n",
              "    <tr>\n",
              "      <th>1</th>\n",
              "      <td>Coloring book moana</td>\n",
              "      <td>ART_AND_DESIGN</td>\n",
              "      <td>3.9</td>\n",
              "      <td>967</td>\n",
              "      <td>14M</td>\n",
              "      <td>500,000+</td>\n",
              "      <td>Free</td>\n",
              "      <td>0</td>\n",
              "      <td>Everyone</td>\n",
              "      <td>Art &amp; Design;Pretend Play</td>\n",
              "      <td>January 15, 2018</td>\n",
              "      <td>2.0.0</td>\n",
              "      <td>4.0.3 and up</td>\n",
              "    </tr>\n",
              "    <tr>\n",
              "      <th>2</th>\n",
              "      <td>U Launcher Lite – FREE Live Cool Themes, Hide ...</td>\n",
              "      <td>ART_AND_DESIGN</td>\n",
              "      <td>4.7</td>\n",
              "      <td>87510</td>\n",
              "      <td>8.7M</td>\n",
              "      <td>5,000,000+</td>\n",
              "      <td>Free</td>\n",
              "      <td>0</td>\n",
              "      <td>Everyone</td>\n",
              "      <td>Art &amp; Design</td>\n",
              "      <td>August 1, 2018</td>\n",
              "      <td>1.2.4</td>\n",
              "      <td>4.0.3 and up</td>\n",
              "    </tr>\n",
              "    <tr>\n",
              "      <th>3</th>\n",
              "      <td>Sketch - Draw &amp; Paint</td>\n",
              "      <td>ART_AND_DESIGN</td>\n",
              "      <td>4.5</td>\n",
              "      <td>215644</td>\n",
              "      <td>25M</td>\n",
              "      <td>50,000,000+</td>\n",
              "      <td>Free</td>\n",
              "      <td>0</td>\n",
              "      <td>Teen</td>\n",
              "      <td>Art &amp; Design</td>\n",
              "      <td>June 8, 2018</td>\n",
              "      <td>Varies with device</td>\n",
              "      <td>4.2 and up</td>\n",
              "    </tr>\n",
              "    <tr>\n",
              "      <th>4</th>\n",
              "      <td>Pixel Draw - Number Art Coloring Book</td>\n",
              "      <td>ART_AND_DESIGN</td>\n",
              "      <td>4.3</td>\n",
              "      <td>967</td>\n",
              "      <td>2.8M</td>\n",
              "      <td>100,000+</td>\n",
              "      <td>Free</td>\n",
              "      <td>0</td>\n",
              "      <td>Everyone</td>\n",
              "      <td>Art &amp; Design;Creativity</td>\n",
              "      <td>June 20, 2018</td>\n",
              "      <td>1.1</td>\n",
              "      <td>4.4 and up</td>\n",
              "    </tr>\n",
              "  </tbody>\n",
              "</table>\n",
              "</div>"
            ],
            "text/plain": [
              "                                                 App        Category  Rating  \\\n",
              "0     Photo Editor & Candy Camera & Grid & ScrapBook  ART_AND_DESIGN     4.1   \n",
              "1                                Coloring book moana  ART_AND_DESIGN     3.9   \n",
              "2  U Launcher Lite – FREE Live Cool Themes, Hide ...  ART_AND_DESIGN     4.7   \n",
              "3                              Sketch - Draw & Paint  ART_AND_DESIGN     4.5   \n",
              "4              Pixel Draw - Number Art Coloring Book  ART_AND_DESIGN     4.3   \n",
              "\n",
              "  Reviews  Size     Installs  Type Price Content Rating  \\\n",
              "0     159   19M      10,000+  Free     0       Everyone   \n",
              "1     967   14M     500,000+  Free     0       Everyone   \n",
              "2   87510  8.7M   5,000,000+  Free     0       Everyone   \n",
              "3  215644   25M  50,000,000+  Free     0           Teen   \n",
              "4     967  2.8M     100,000+  Free     0       Everyone   \n",
              "\n",
              "                      Genres      Last Updated         Current Ver  \\\n",
              "0               Art & Design   January 7, 2018               1.0.0   \n",
              "1  Art & Design;Pretend Play  January 15, 2018               2.0.0   \n",
              "2               Art & Design    August 1, 2018               1.2.4   \n",
              "3               Art & Design      June 8, 2018  Varies with device   \n",
              "4    Art & Design;Creativity     June 20, 2018                 1.1   \n",
              "\n",
              "    Android Ver  \n",
              "0  4.0.3 and up  \n",
              "1  4.0.3 and up  \n",
              "2  4.0.3 and up  \n",
              "3    4.2 and up  \n",
              "4    4.4 and up  "
            ]
          },
          "metadata": {
            "tags": []
          },
          "execution_count": 1
        }
      ]
    },
    {
      "metadata": {
        "id": "nEcc1Ghwt1pe",
        "colab_type": "code",
        "outputId": "5f7a1d6b-cff9-4278-dff9-ec61a51f3fd9",
        "colab": {
          "base_uri": "https://localhost:8080/",
          "height": 170
        }
      },
      "cell_type": "code",
      "source": [
        "# резюме колонки з балами Rating\n",
        "df['Rating'].describe()"
      ],
      "execution_count": 0,
      "outputs": [
        {
          "output_type": "execute_result",
          "data": {
            "text/plain": [
              "count    9367.000000\n",
              "mean        4.193338\n",
              "std         0.537431\n",
              "min         1.000000\n",
              "25%         4.000000\n",
              "50%         4.300000\n",
              "75%         4.500000\n",
              "max        19.000000\n",
              "Name: Rating, dtype: float64"
            ]
          },
          "metadata": {
            "tags": []
          },
          "execution_count": 5
        }
      ]
    },
    {
      "metadata": {
        "id": "YQwOh9vtt_Wk",
        "colab_type": "code",
        "outputId": "92c748be-bb08-4385-94f8-e12c2b53a8c3",
        "colab": {
          "base_uri": "https://localhost:8080/",
          "height": 51
        }
      },
      "cell_type": "code",
      "source": [
        "df['Rating'].mode() # мода рейтингу"
      ],
      "execution_count": 0,
      "outputs": [
        {
          "output_type": "execute_result",
          "data": {
            "text/plain": [
              "0    4.4\n",
              "dtype: float64"
            ]
          },
          "metadata": {
            "tags": []
          },
          "execution_count": 38
        }
      ]
    },
    {
      "metadata": {
        "id": "zi30SwrPuwH7",
        "colab_type": "code",
        "outputId": "adacab90-dd35-4383-9f4e-1d309405cadd",
        "colab": {
          "base_uri": "https://localhost:8080/",
          "height": 34
        }
      },
      "cell_type": "code",
      "source": [
        "df['Rating'].median() # медіана рейтингу"
      ],
      "execution_count": 0,
      "outputs": [
        {
          "output_type": "execute_result",
          "data": {
            "text/plain": [
              "4.3"
            ]
          },
          "metadata": {
            "tags": []
          },
          "execution_count": 39
        }
      ]
    },
    {
      "metadata": {
        "id": "fSW7SWYQ0F3E",
        "colab_type": "code",
        "outputId": "df44a0c5-5816-43f7-b4d9-a908ac871a01",
        "colab": {
          "base_uri": "https://localhost:8080/",
          "height": 564
        }
      },
      "cell_type": "code",
      "source": [
        "df['Reviews'] = pd.to_numeric(df['Reviews'],downcast='integer',errors='coerce')\n",
        "df.head()"
      ],
      "execution_count": 0,
      "outputs": [
        {
          "output_type": "execute_result",
          "data": {
            "text/html": [
              "<div>\n",
              "<style scoped>\n",
              "    .dataframe tbody tr th:only-of-type {\n",
              "        vertical-align: middle;\n",
              "    }\n",
              "\n",
              "    .dataframe tbody tr th {\n",
              "        vertical-align: top;\n",
              "    }\n",
              "\n",
              "    .dataframe thead th {\n",
              "        text-align: right;\n",
              "    }\n",
              "</style>\n",
              "<table border=\"1\" class=\"dataframe\">\n",
              "  <thead>\n",
              "    <tr style=\"text-align: right;\">\n",
              "      <th></th>\n",
              "      <th>App</th>\n",
              "      <th>Category</th>\n",
              "      <th>Rating</th>\n",
              "      <th>Reviews</th>\n",
              "      <th>Size</th>\n",
              "      <th>Installs</th>\n",
              "      <th>Type</th>\n",
              "      <th>Price</th>\n",
              "      <th>Content Rating</th>\n",
              "      <th>Genres</th>\n",
              "      <th>Last Updated</th>\n",
              "      <th>Current Ver</th>\n",
              "      <th>Android Ver</th>\n",
              "    </tr>\n",
              "  </thead>\n",
              "  <tbody>\n",
              "    <tr>\n",
              "      <th>0</th>\n",
              "      <td>Photo Editor &amp; Candy Camera &amp; Grid &amp; ScrapBook</td>\n",
              "      <td>ART_AND_DESIGN</td>\n",
              "      <td>4.1</td>\n",
              "      <td>159.0</td>\n",
              "      <td>19M</td>\n",
              "      <td>10,000+</td>\n",
              "      <td>Free</td>\n",
              "      <td>0</td>\n",
              "      <td>Everyone</td>\n",
              "      <td>Art &amp; Design</td>\n",
              "      <td>January 7, 2018</td>\n",
              "      <td>1.0.0</td>\n",
              "      <td>4.0.3 and up</td>\n",
              "    </tr>\n",
              "    <tr>\n",
              "      <th>1</th>\n",
              "      <td>Coloring book moana</td>\n",
              "      <td>ART_AND_DESIGN</td>\n",
              "      <td>3.9</td>\n",
              "      <td>967.0</td>\n",
              "      <td>14M</td>\n",
              "      <td>500,000+</td>\n",
              "      <td>Free</td>\n",
              "      <td>0</td>\n",
              "      <td>Everyone</td>\n",
              "      <td>Art &amp; Design;Pretend Play</td>\n",
              "      <td>January 15, 2018</td>\n",
              "      <td>2.0.0</td>\n",
              "      <td>4.0.3 and up</td>\n",
              "    </tr>\n",
              "    <tr>\n",
              "      <th>2</th>\n",
              "      <td>U Launcher Lite – FREE Live Cool Themes, Hide ...</td>\n",
              "      <td>ART_AND_DESIGN</td>\n",
              "      <td>4.7</td>\n",
              "      <td>87510.0</td>\n",
              "      <td>8.7M</td>\n",
              "      <td>5,000,000+</td>\n",
              "      <td>Free</td>\n",
              "      <td>0</td>\n",
              "      <td>Everyone</td>\n",
              "      <td>Art &amp; Design</td>\n",
              "      <td>August 1, 2018</td>\n",
              "      <td>1.2.4</td>\n",
              "      <td>4.0.3 and up</td>\n",
              "    </tr>\n",
              "    <tr>\n",
              "      <th>3</th>\n",
              "      <td>Sketch - Draw &amp; Paint</td>\n",
              "      <td>ART_AND_DESIGN</td>\n",
              "      <td>4.5</td>\n",
              "      <td>215644.0</td>\n",
              "      <td>25M</td>\n",
              "      <td>50,000,000+</td>\n",
              "      <td>Free</td>\n",
              "      <td>0</td>\n",
              "      <td>Teen</td>\n",
              "      <td>Art &amp; Design</td>\n",
              "      <td>June 8, 2018</td>\n",
              "      <td>Varies with device</td>\n",
              "      <td>4.2 and up</td>\n",
              "    </tr>\n",
              "    <tr>\n",
              "      <th>4</th>\n",
              "      <td>Pixel Draw - Number Art Coloring Book</td>\n",
              "      <td>ART_AND_DESIGN</td>\n",
              "      <td>4.3</td>\n",
              "      <td>967.0</td>\n",
              "      <td>2.8M</td>\n",
              "      <td>100,000+</td>\n",
              "      <td>Free</td>\n",
              "      <td>0</td>\n",
              "      <td>Everyone</td>\n",
              "      <td>Art &amp; Design;Creativity</td>\n",
              "      <td>June 20, 2018</td>\n",
              "      <td>1.1</td>\n",
              "      <td>4.4 and up</td>\n",
              "    </tr>\n",
              "  </tbody>\n",
              "</table>\n",
              "</div>"
            ],
            "text/plain": [
              "                                                 App        Category  Rating  \\\n",
              "0     Photo Editor & Candy Camera & Grid & ScrapBook  ART_AND_DESIGN     4.1   \n",
              "1                                Coloring book moana  ART_AND_DESIGN     3.9   \n",
              "2  U Launcher Lite – FREE Live Cool Themes, Hide ...  ART_AND_DESIGN     4.7   \n",
              "3                              Sketch - Draw & Paint  ART_AND_DESIGN     4.5   \n",
              "4              Pixel Draw - Number Art Coloring Book  ART_AND_DESIGN     4.3   \n",
              "\n",
              "    Reviews  Size     Installs  Type Price Content Rating  \\\n",
              "0     159.0   19M      10,000+  Free     0       Everyone   \n",
              "1     967.0   14M     500,000+  Free     0       Everyone   \n",
              "2   87510.0  8.7M   5,000,000+  Free     0       Everyone   \n",
              "3  215644.0   25M  50,000,000+  Free     0           Teen   \n",
              "4     967.0  2.8M     100,000+  Free     0       Everyone   \n",
              "\n",
              "                      Genres      Last Updated         Current Ver  \\\n",
              "0               Art & Design   January 7, 2018               1.0.0   \n",
              "1  Art & Design;Pretend Play  January 15, 2018               2.0.0   \n",
              "2               Art & Design    August 1, 2018               1.2.4   \n",
              "3               Art & Design      June 8, 2018  Varies with device   \n",
              "4    Art & Design;Creativity     June 20, 2018                 1.1   \n",
              "\n",
              "    Android Ver  \n",
              "0  4.0.3 and up  \n",
              "1  4.0.3 and up  \n",
              "2  4.0.3 and up  \n",
              "3    4.2 and up  \n",
              "4    4.4 and up  "
            ]
          },
          "metadata": {
            "tags": []
          },
          "execution_count": 62
        }
      ]
    },
    {
      "metadata": {
        "id": "sbZiZ365xRsE",
        "colab_type": "code",
        "colab": {}
      },
      "cell_type": "code",
      "source": [
        "# середнє гармонічне\n",
        "\n",
        "from scipy.stats.mstats import hmean\n",
        "\n",
        "#hmean(df['Rating'], axis=0)\n",
        "#df['Reviews'] = df['Reviews'].map(lambda row : row.Reviews if row.Reviews>0 else 0)\n",
        "\n",
        "hmean(df['Reviews'], axis=0)"
      ],
      "execution_count": 0,
      "outputs": []
    },
    {
      "metadata": {
        "id": "7Jj320alw8Gn",
        "colab_type": "code",
        "outputId": "cf0bc9ef-698c-426d-96ff-69cb03dbc35f",
        "colab": {
          "base_uri": "https://localhost:8080/",
          "height": 34
        }
      },
      "cell_type": "code",
      "source": [
        "# середнє геометричне рейтингу\n",
        "from scipy.stats.mstats import gmean\n",
        "\n",
        "\n",
        "gmean(df['Rating'], axis=0)"
      ],
      "execution_count": 0,
      "outputs": [
        {
          "output_type": "execute_result",
          "data": {
            "text/plain": [
              "nan"
            ]
          },
          "metadata": {
            "tags": []
          },
          "execution_count": 58
        }
      ]
    },
    {
      "metadata": {
        "id": "yEZe86dOw1sK",
        "colab_type": "code",
        "outputId": "89d99fdf-672c-4829-924c-34966e007e71",
        "colab": {
          "base_uri": "https://localhost:8080/",
          "height": 204
        }
      },
      "cell_type": "code",
      "source": [
        "# варіаціний ряд\n",
        "import numpy as np\n",
        "df['Rating'].quantile(np.linspace(.1, 1, 9, 0))\n",
        "df.dropna().quantile([0.0, .3, .7, .9, .99])"
      ],
      "execution_count": 0,
      "outputs": [
        {
          "output_type": "execute_result",
          "data": {
            "text/html": [
              "<div>\n",
              "<style scoped>\n",
              "    .dataframe tbody tr th:only-of-type {\n",
              "        vertical-align: middle;\n",
              "    }\n",
              "\n",
              "    .dataframe tbody tr th {\n",
              "        vertical-align: top;\n",
              "    }\n",
              "\n",
              "    .dataframe thead th {\n",
              "        text-align: right;\n",
              "    }\n",
              "</style>\n",
              "<table border=\"1\" class=\"dataframe\">\n",
              "  <thead>\n",
              "    <tr style=\"text-align: right;\">\n",
              "      <th></th>\n",
              "      <th>Rating</th>\n",
              "      <th>Reviews</th>\n",
              "      <th>Price</th>\n",
              "    </tr>\n",
              "  </thead>\n",
              "  <tbody>\n",
              "    <tr>\n",
              "      <th>0.00</th>\n",
              "      <td>1.0</td>\n",
              "      <td>1.00</td>\n",
              "      <td>0.0</td>\n",
              "    </tr>\n",
              "    <tr>\n",
              "      <th>0.30</th>\n",
              "      <td>4.1</td>\n",
              "      <td>509.00</td>\n",
              "      <td>0.0</td>\n",
              "    </tr>\n",
              "    <tr>\n",
              "      <th>0.70</th>\n",
              "      <td>4.5</td>\n",
              "      <td>59550.20</td>\n",
              "      <td>0.0</td>\n",
              "    </tr>\n",
              "    <tr>\n",
              "      <th>0.90</th>\n",
              "      <td>4.7</td>\n",
              "      <td>666411.00</td>\n",
              "      <td>0.0</td>\n",
              "    </tr>\n",
              "    <tr>\n",
              "      <th>0.99</th>\n",
              "      <td>5.0</td>\n",
              "      <td>10216932.74</td>\n",
              "      <td>0.0</td>\n",
              "    </tr>\n",
              "  </tbody>\n",
              "</table>\n",
              "</div>"
            ],
            "text/plain": [
              "      Rating      Reviews  Price\n",
              "0.00     1.0         1.00    0.0\n",
              "0.30     4.1       509.00    0.0\n",
              "0.70     4.5     59550.20    0.0\n",
              "0.90     4.7    666411.00    0.0\n",
              "0.99     5.0  10216932.74    0.0"
            ]
          },
          "metadata": {
            "tags": []
          },
          "execution_count": 70
        }
      ]
    },
    {
      "metadata": {
        "id": "5BECNR_6vGuj",
        "colab_type": "code",
        "outputId": "c7c2559b-3719-4809-cfc9-9ca69b2bb2dd",
        "colab": {
          "base_uri": "https://localhost:8080/",
          "height": 34
        }
      },
      "cell_type": "code",
      "source": [
        "df['Rating'].mean() # середнє арифметичне рейтингу\n",
        "\n"
      ],
      "execution_count": 0,
      "outputs": [
        {
          "output_type": "execute_result",
          "data": {
            "text/plain": [
              "4.193338315362443"
            ]
          },
          "metadata": {
            "tags": []
          },
          "execution_count": 9
        }
      ]
    },
    {
      "metadata": {
        "id": "xEkW7_CA0zZT",
        "colab_type": "text"
      },
      "cell_type": "markdown",
      "source": [
        "## Відповіді на контрольні питання"
      ]
    },
    {
      "metadata": {
        "id": "800WAaOA1Edz",
        "colab_type": "text"
      },
      "cell_type": "markdown",
      "source": [
        "\n",
        "\n",
        "1.   Які основні емпіричні методи ви знаєте? Коротко опишіть їх суть.\n",
        "**Спостереження** — цілеспрямоване сприйняття явищ.\n",
        "**Опис** — фіксація засобами мови відомостей про об'єкти.\n",
        "**Вимірювання** — порівняння об'єктів по яких-небудь загальних властивостях.\n",
        "**Експеримент** — спостереження в спеціально створених контрольованих умовах.\n",
        " **Порівняння** — одночасне співвідносне дослідження і оцінка загальних для об'єктів властивостей та ознак.\n",
        "2.   Яка основна задача застосування емпіричних методів?\n",
        "Підтвердити або спростувати гіпотези на основі аналізу статистичних показників.\n",
        "3.   Що таке статистичний показник? Яка його суть?\n",
        "**Статистичним показником** називають узагальнену числову характеристику будь-якого масового явища в поєднанні з його якісною визначеністю в конкретних умовах місця і часу.\n",
        "\n",
        "4.   Опишіть суть закону великих чисел.\n",
        "**Закон великих чисел**: закономірність масового явища виявляється лише при досить великій кількості спостережень, коли відбувається взаємне погашення впливу випадкових причин, які мають місце в окремих випадках.\n",
        "5.   В чому полягає ключова небезпека при нерозумінні до якої області відноситься величина: \"Крайнестану\" чи \"Среднестану\"?\n",
        " Отримані результати можуть бути хибні.\n",
        "6.   Опишіть процес первинної обробки даних.\n",
        "Емпіричні дані, які ми отримуємо шляхом вимірювань або за допомогою імітаційного моделювання — мають пройти первинну обробку.\n",
        "\n",
        "**Вона включає**:\n",
        "* табуляцію\n",
        "* впорядкування у варіаційні послідовності (або ряди)\n",
        "* групування (при побудові інтервального варіаційного ряду)\n",
        "* побудову статистичного розподілу\n",
        "* обчислення окремих статистичних параметрів\n",
        "\n",
        "\n",
        "---\n",
        "\n",
        "\n",
        "7.   Що таке табуляція? Які види табуляції ви знаєте? За яких умов варто застосовувати кожен з них?\n",
        "**Проста табуляція** - це підрахунок кількості подій, які потрапляють в певну категорію, що базується на одній змінній. Простій табуляції піддаються відповіді, отримані як на основні, так і на класифікаційні питання.\n",
        "**Перехресна табуляція** - це підрахунок кількості подій, які потрапляють в кожну з декількох категорій, що базуються на двох або більше змінних, які розглядаються одночасно.\n",
        "8.   Що таке експеримент?\n",
        "\n",
        "**експеримент**  — спроба, дослід і вживається для позначення низки споріднених понять: дослід, цілеспрямоване спостереження, відтворення об'єкта дослідження, організація особливих умов його існування, перевірка передбачень.\n",
        "\n",
        "\n"
      ]
    },
    {
      "metadata": {
        "id": "qK7LdE4N1KXT",
        "colab_type": "text"
      },
      "cell_type": "markdown",
      "source": [
        "# Практична частина 2"
      ]
    },
    {
      "metadata": {
        "id": "UPuGKsIX1ViL",
        "colab_type": "text"
      },
      "cell_type": "markdown",
      "source": [
        "## Ініціалізація, підготовка датасету"
      ]
    },
    {
      "metadata": {
        "id": "sQTlr70d1amC",
        "colab_type": "code",
        "outputId": "04410833-e937-4fff-b227-c4e24ac9265c",
        "colab": {
          "base_uri": "https://localhost:8080/",
          "height": 564
        }
      },
      "cell_type": "code",
      "source": [
        "# підключимо бібліотеку pandas для обробки даних (вона вже встановлена в Colab)\n",
        "import pandas as pd\n",
        "\n",
        "# зазначимо url звідки ми візьмемо дані\n",
        "url = \"http://www.sharecsv.com/dl/70792028b87f9e5072133ce87c32a8a7/googleplaystore.csv\"\n",
        "\n",
        "# створимо pandas Dataframe з csv-файлу, який ми отримаємо по вищезазначеному url\n",
        "# Dataframe надасть нам необхідні можливості для обробки даних\n",
        "df = pd.read_csv(url)\n",
        "\n",
        "# очистимо dataframe, підготуємо його до бажаного вигляду\n",
        "#df.set_index('App', inplace=True)  # встановимо колонку з іменем '№' як індекс dataframe'у\n",
        "\n",
        "# конвертуємо колонку \"Reviews\" у числові значення.\n",
        "#df['Reviews'] = pd.to_numeric(df['Reviews'], errors='coerce')  \n",
        "\n",
        "# відобразимо перші 5 записів у датафреймі\n",
        "df.head()"
      ],
      "execution_count": 0,
      "outputs": [
        {
          "output_type": "execute_result",
          "data": {
            "text/html": [
              "<div>\n",
              "<style scoped>\n",
              "    .dataframe tbody tr th:only-of-type {\n",
              "        vertical-align: middle;\n",
              "    }\n",
              "\n",
              "    .dataframe tbody tr th {\n",
              "        vertical-align: top;\n",
              "    }\n",
              "\n",
              "    .dataframe thead th {\n",
              "        text-align: right;\n",
              "    }\n",
              "</style>\n",
              "<table border=\"1\" class=\"dataframe\">\n",
              "  <thead>\n",
              "    <tr style=\"text-align: right;\">\n",
              "      <th></th>\n",
              "      <th>App</th>\n",
              "      <th>Category</th>\n",
              "      <th>Rating</th>\n",
              "      <th>Reviews</th>\n",
              "      <th>Size</th>\n",
              "      <th>Installs</th>\n",
              "      <th>Type</th>\n",
              "      <th>Price</th>\n",
              "      <th>Content Rating</th>\n",
              "      <th>Genres</th>\n",
              "      <th>Last Updated</th>\n",
              "      <th>Current Ver</th>\n",
              "      <th>Android Ver</th>\n",
              "    </tr>\n",
              "  </thead>\n",
              "  <tbody>\n",
              "    <tr>\n",
              "      <th>0</th>\n",
              "      <td>Photo Editor &amp; Candy Camera &amp; Grid &amp; ScrapBook</td>\n",
              "      <td>ART_AND_DESIGN</td>\n",
              "      <td>4.1</td>\n",
              "      <td>159</td>\n",
              "      <td>19M</td>\n",
              "      <td>10,000+</td>\n",
              "      <td>Free</td>\n",
              "      <td>0</td>\n",
              "      <td>Everyone</td>\n",
              "      <td>Art &amp; Design</td>\n",
              "      <td>January 7, 2018</td>\n",
              "      <td>1.0.0</td>\n",
              "      <td>4.0.3 and up</td>\n",
              "    </tr>\n",
              "    <tr>\n",
              "      <th>1</th>\n",
              "      <td>Coloring book moana</td>\n",
              "      <td>ART_AND_DESIGN</td>\n",
              "      <td>3.9</td>\n",
              "      <td>967</td>\n",
              "      <td>14M</td>\n",
              "      <td>500,000+</td>\n",
              "      <td>Free</td>\n",
              "      <td>0</td>\n",
              "      <td>Everyone</td>\n",
              "      <td>Art &amp; Design;Pretend Play</td>\n",
              "      <td>January 15, 2018</td>\n",
              "      <td>2.0.0</td>\n",
              "      <td>4.0.3 and up</td>\n",
              "    </tr>\n",
              "    <tr>\n",
              "      <th>2</th>\n",
              "      <td>U Launcher Lite – FREE Live Cool Themes, Hide ...</td>\n",
              "      <td>ART_AND_DESIGN</td>\n",
              "      <td>4.7</td>\n",
              "      <td>87510</td>\n",
              "      <td>8.7M</td>\n",
              "      <td>5,000,000+</td>\n",
              "      <td>Free</td>\n",
              "      <td>0</td>\n",
              "      <td>Everyone</td>\n",
              "      <td>Art &amp; Design</td>\n",
              "      <td>August 1, 2018</td>\n",
              "      <td>1.2.4</td>\n",
              "      <td>4.0.3 and up</td>\n",
              "    </tr>\n",
              "    <tr>\n",
              "      <th>3</th>\n",
              "      <td>Sketch - Draw &amp; Paint</td>\n",
              "      <td>ART_AND_DESIGN</td>\n",
              "      <td>4.5</td>\n",
              "      <td>215644</td>\n",
              "      <td>25M</td>\n",
              "      <td>50,000,000+</td>\n",
              "      <td>Free</td>\n",
              "      <td>0</td>\n",
              "      <td>Teen</td>\n",
              "      <td>Art &amp; Design</td>\n",
              "      <td>June 8, 2018</td>\n",
              "      <td>Varies with device</td>\n",
              "      <td>4.2 and up</td>\n",
              "    </tr>\n",
              "    <tr>\n",
              "      <th>4</th>\n",
              "      <td>Pixel Draw - Number Art Coloring Book</td>\n",
              "      <td>ART_AND_DESIGN</td>\n",
              "      <td>4.3</td>\n",
              "      <td>967</td>\n",
              "      <td>2.8M</td>\n",
              "      <td>100,000+</td>\n",
              "      <td>Free</td>\n",
              "      <td>0</td>\n",
              "      <td>Everyone</td>\n",
              "      <td>Art &amp; Design;Creativity</td>\n",
              "      <td>June 20, 2018</td>\n",
              "      <td>1.1</td>\n",
              "      <td>4.4 and up</td>\n",
              "    </tr>\n",
              "  </tbody>\n",
              "</table>\n",
              "</div>"
            ],
            "text/plain": [
              "                                                 App        Category  Rating  \\\n",
              "0     Photo Editor & Candy Camera & Grid & ScrapBook  ART_AND_DESIGN     4.1   \n",
              "1                                Coloring book moana  ART_AND_DESIGN     3.9   \n",
              "2  U Launcher Lite – FREE Live Cool Themes, Hide ...  ART_AND_DESIGN     4.7   \n",
              "3                              Sketch - Draw & Paint  ART_AND_DESIGN     4.5   \n",
              "4              Pixel Draw - Number Art Coloring Book  ART_AND_DESIGN     4.3   \n",
              "\n",
              "  Reviews  Size     Installs  Type Price Content Rating  \\\n",
              "0     159   19M      10,000+  Free     0       Everyone   \n",
              "1     967   14M     500,000+  Free     0       Everyone   \n",
              "2   87510  8.7M   5,000,000+  Free     0       Everyone   \n",
              "3  215644   25M  50,000,000+  Free     0           Teen   \n",
              "4     967  2.8M     100,000+  Free     0       Everyone   \n",
              "\n",
              "                      Genres      Last Updated         Current Ver  \\\n",
              "0               Art & Design   January 7, 2018               1.0.0   \n",
              "1  Art & Design;Pretend Play  January 15, 2018               2.0.0   \n",
              "2               Art & Design    August 1, 2018               1.2.4   \n",
              "3               Art & Design      June 8, 2018  Varies with device   \n",
              "4    Art & Design;Creativity     June 20, 2018                 1.1   \n",
              "\n",
              "    Android Ver  \n",
              "0  4.0.3 and up  \n",
              "1  4.0.3 and up  \n",
              "2  4.0.3 and up  \n",
              "3    4.2 and up  \n",
              "4    4.4 and up  "
            ]
          },
          "metadata": {
            "tags": []
          },
          "execution_count": 27
        }
      ]
    },
    {
      "metadata": {
        "id": "M7Cy8VJl2GMv",
        "colab_type": "text"
      },
      "cell_type": "markdown",
      "source": [
        "## Проста випадкова вибірка"
      ]
    },
    {
      "metadata": {
        "id": "B6_Vi3qN2Ne3",
        "colab_type": "code",
        "outputId": "ebd7a6e0-048f-4281-dd66-a96827cc37c6",
        "colab": {
          "base_uri": "https://localhost:8080/",
          "height": 187
        }
      },
      "cell_type": "code",
      "source": [
        "def compare_mean(sample):\n",
        "  print(df.mean(), '\\n', sample.mean())\n",
        "  \n",
        "random_sample = df.sample(len(df.index)//3)\n",
        "compare_mean(random_sample)"
      ],
      "execution_count": 0,
      "outputs": [
        {
          "output_type": "stream",
          "text": [
            "Rating         4.193338e+00\n",
            "Reviews        4.441529e+05\n",
            "Rating_zsc     1.520983e-15\n",
            "Reviews_zsc   -1.296690e-16\n",
            "dtype: float64 \n",
            " Rating              4.189764\n",
            "Reviews        438201.650429\n",
            "Rating_zsc         -0.006652\n",
            "Reviews_zsc        -0.002033\n",
            "dtype: float64\n"
          ],
          "name": "stdout"
        }
      ]
    },
    {
      "metadata": {
        "id": "2bI_VnoM2Q4S",
        "colab_type": "text"
      },
      "cell_type": "markdown",
      "source": [
        "## Стратифікована вибірка"
      ]
    },
    {
      "metadata": {
        "id": "1xVR9QfZ2WjQ",
        "colab_type": "code",
        "outputId": "cbde40ac-3fa7-49f5-c219-a16f1804312f",
        "colab": {
          "base_uri": "https://localhost:8080/",
          "height": 187
        }
      },
      "cell_type": "code",
      "source": [
        "groups = [pd.DataFrame]*3\n",
        "groups[0] = df[df.Rating < 3]\n",
        "groups[1] = df[(df.Rating >= 3) &\n",
        "                    (df.Rating <= 4)]\n",
        "groups[2] = df[df.Rating > 4]\n",
        "for i,group in enumerate(groups):\n",
        "  groups[i] = groups[i].sample(len(groups[i].index)//3)\n",
        "strat_sample = pd.concat(groups)\n",
        "\n",
        "compare_mean(strat_sample)"
      ],
      "execution_count": 0,
      "outputs": [
        {
          "output_type": "stream",
          "text": [
            "Rating         4.193338e+00\n",
            "Reviews        4.441529e+05\n",
            "Rating_zsc     1.520983e-15\n",
            "Reviews_zsc   -1.296690e-16\n",
            "dtype: float64 \n",
            " Rating              4.199231\n",
            "Reviews        451558.392628\n",
            "Rating_zsc          0.010965\n",
            "Reviews_zsc         0.002530\n",
            "dtype: float64\n"
          ],
          "name": "stdout"
        }
      ]
    },
    {
      "metadata": {
        "id": "slhXNIFH2XeN",
        "colab_type": "text"
      },
      "cell_type": "markdown",
      "source": [
        "## Групова вибірка"
      ]
    },
    {
      "metadata": {
        "id": "ZB1i4gEE2iiH",
        "colab_type": "code",
        "colab": {}
      },
      "cell_type": "code",
      "source": [
        "# #Дане завдання поки що не працює\n",
        "\n",
        "# from sklearn.cluster import KMeans\n",
        "# import numpy as np\n",
        "\n",
        "\n",
        "\n",
        "# Rating = list(zip(df.Rating))\n",
        "# cluster_count = 10;\n",
        "# a = KMeans(n_clusters=cluster_count).fit(num)\n",
        "# clusters = pd.Series(data=a.labels_)\n",
        "# # for match in matches:\n",
        "# #   if match['id']\n",
        "# cl = [pd.DataFrame]*cluster_count\n",
        "\n",
        "\n",
        "# # for i in range(0,cluster_count):\n",
        "# #   cl[i] = pd.concat([clusters[clusters.number == i], matches], axis=1)\n",
        "\n",
        "  \n",
        "# df.head()\n",
        "# df.assign(cl = clusters)\n"
      ],
      "execution_count": 0,
      "outputs": []
    },
    {
      "metadata": {
        "id": "w5FzNMMg2uKc",
        "colab_type": "text"
      },
      "cell_type": "markdown",
      "source": [
        "## Розмах"
      ]
    },
    {
      "metadata": {
        "id": "Tm0SZuc22zlF",
        "colab_type": "code",
        "outputId": "0851ec25-3354-48cf-9d71-0db215a9d2d3",
        "colab": {
          "base_uri": "https://localhost:8080/",
          "height": 34
        }
      },
      "cell_type": "code",
      "source": [
        "# розмах\n",
        "R = df['Reviews'].max() - df['Reviews'].min()\n",
        "R"
      ],
      "execution_count": 0,
      "outputs": [
        {
          "output_type": "execute_result",
          "data": {
            "text/plain": [
              "78158306.0"
            ]
          },
          "metadata": {
            "tags": []
          },
          "execution_count": 12
        }
      ]
    },
    {
      "metadata": {
        "id": "glYootkq3F_p",
        "colab_type": "text"
      },
      "cell_type": "markdown",
      "source": [
        "## Дисперсія"
      ]
    },
    {
      "metadata": {
        "id": "Fun3lVBd3J0H",
        "colab_type": "code",
        "outputId": "7278c41d-e748-4f5e-bdb6-75283f3a1f20",
        "colab": {
          "base_uri": "https://localhost:8080/",
          "height": 51
        }
      },
      "cell_type": "code",
      "source": [
        "var = df.var()\n",
        "var"
      ],
      "execution_count": 0,
      "outputs": [
        {
          "output_type": "execute_result",
          "data": {
            "text/plain": [
              "Reviews    8.571782e+12\n",
              "dtype: float64"
            ]
          },
          "metadata": {
            "tags": []
          },
          "execution_count": 41
        }
      ]
    },
    {
      "metadata": {
        "id": "XYmj1tAO3XnY",
        "colab_type": "code",
        "outputId": "077ea8f4-7ca9-4235-dc31-ee47769c78a3",
        "colab": {
          "base_uri": "https://localhost:8080/",
          "height": 51
        }
      },
      "cell_type": "code",
      "source": [
        "std = df.std()\n",
        "std"
      ],
      "execution_count": 0,
      "outputs": [
        {
          "output_type": "execute_result",
          "data": {
            "text/plain": [
              "Reviews    2.927761e+06\n",
              "dtype: float64"
            ]
          },
          "metadata": {
            "tags": []
          },
          "execution_count": 42
        }
      ]
    },
    {
      "metadata": {
        "id": "Nsr3zNVI3c1x",
        "colab_type": "text"
      },
      "cell_type": "markdown",
      "source": [
        "## Квартилі розподілу"
      ]
    },
    {
      "metadata": {
        "id": "xt4h-t7S3gte",
        "colab_type": "code",
        "outputId": "239df256-2bd4-47b8-cf36-762acc2bde28",
        "colab": {
          "base_uri": "https://localhost:8080/",
          "height": 364
        }
      },
      "cell_type": "code",
      "source": [
        "df['Price'] = pd.to_numeric(df['Price'], errors='coerce')\n",
        "df.boxplot(column=['Rating','Price'])"
      ],
      "execution_count": 0,
      "outputs": [
        {
          "output_type": "execute_result",
          "data": {
            "text/plain": [
              "<matplotlib.axes._subplots.AxesSubplot at 0x7fad77213f28>"
            ]
          },
          "metadata": {
            "tags": []
          },
          "execution_count": 28
        },
        {
          "output_type": "display_data",
          "data": {
            "image/png": "[encoded data removed]",
            "text/plain": [
              "<matplotlib.figure.Figure at 0x7fad777b5828>"
            ]
          },
          "metadata": {
            "tags": []
          }
        }
      ]
    },
    {
      "metadata": {
        "id": "nijiQVlu4AYu",
        "colab_type": "text"
      },
      "cell_type": "markdown",
      "source": [
        "## Відповіді на контрольні питання"
      ]
    },
    {
      "metadata": {
        "id": "7puuERWF4GbR",
        "colab_type": "text"
      },
      "cell_type": "markdown",
      "source": [
        "1. Що таке вибірка? Яку вибірку можна назвати репрезентативною ?\n",
        "**Вибірка** - частина нашої ГС (потрібна для того, щоб провести експерименти лише над певною частиною записів. І потім по можливості узагальнити їх на всю ГС). \n",
        "**Репрезентативна вибірка** - вибірка яка є моделлю ГС і відображає її властивості.\n",
        "1. В чому ключова відмінність між стратифікованою та груповою виборками?\n",
        "У стратифікованій вибірці ми розбиваємо ГС на декілька відмінних одна від одної \"страт\" - груп і застосувати метод ПВВ .\n",
        "А у груповій вибірці ми розбиваємо ГС на декілька груп (кластерів). Проте в даному випадку робимо це так, щоб усі кластери були досить схожими між собою. Вибираємо для розгляду лише декілька кластерів і застосовуємо до них метод ПВВ\n",
        "1. В чому полягає критичний недолік розмаху? І чому на вашу думку це є саме критичним недоліком?\n",
        "Критичний недолік розмаху полягає в тому, що він використовує лише 2 крайніх значення.\n",
        "Тому що будь-які зміни цих значень будуть вкрай відчутно відображатись на результаті.\n",
        "1. В чому полягає різниця між дисперсією та середнім квадратичним відхиленням?\n",
        "В тому що середній квадрат відхилень індивідуальних значень показника від його середнього значення, а середнє квадратичне відхилення - наскільки в середньому кожен елемент нашої вибірки відхиляється від середнього значення по даній вибірці.\n",
        "1. За що відповідають квантилі розподілу? Яким чином їх можна найкраще представити?\n",
        "**Квартилі** - 3 точки (значення показника), які ділять впорядковану множину даних на чотири рівних частини. Відповідно: вкінці перших 25% множини знаходиться до 1-а точка, 50% - 2-га точка (медіана), 75% - 3-тя точка.\n",
        "Їх можна чудово розгледіти, побудувавши графік box-plot.\n",
        "1. Що таке міжквартильний розмах ?\n",
        "**Міжквартильний розмах** - різниця між верхньою межею і нижньою межею. Чим більше значення має цей розмах - тим більша варіативність показника.\n",
        "1. Коли дедлайн здачі лаб №1 і що в неї входить?\n",
        "**10 жовтня**. В дедлайн входить 3 частини Вступу в ЕМПІ."
      ]
    },
    {
      "metadata": {
        "id": "_rZhL8-8VUKw",
        "colab_type": "text"
      },
      "cell_type": "markdown",
      "source": [
        "# Практична частина 3"
      ]
    },
    {
      "metadata": {
        "id": "xjks38zPX_xO",
        "colab_type": "code",
        "outputId": "815dcd9c-d0f8-4c02-9884-efe497143c84",
        "colab": {
          "base_uri": "https://localhost:8080/",
          "height": 564
        }
      },
      "cell_type": "code",
      "source": [
        "\n",
        "# підключимо бібліотеку pandas для обробки даних (вона вже встановлена в Colab)\n",
        "import pandas as pd\n",
        "\n",
        "# зазначимо url звідки ми візьмемо дані\n",
        "url = \"http://www.sharecsv.com/dl/70792028b87f9e5072133ce87c32a8a7/googleplaystore.csv\"\n",
        "\n",
        "# створимо pandas Dataframe з csv-файлу, який ми отримаємо по вищезазначеному url\n",
        "# Dataframe надасть нам необхідні можливості для обробки даних\n",
        "df = pd.read_csv(url)\n",
        "\n",
        "# очистимо dataframe, підготуємо його до бажаного вигляду\n",
        "#df.set_index('App', inplace=True)  # встановимо колонку з іменем '№' як індекс dataframe'у\n",
        "\n",
        "# конвертуємо колонку \"Reviews\" у числові значення.\n",
        "#df['Reviews'] = pd.to_numeric(df['Reviews'], errors='coerce')  \n",
        "\n",
        "# відобразимо перші 5 записів у датафреймі\n",
        "df.head()"
      ],
      "execution_count": 0,
      "outputs": [
        {
          "output_type": "execute_result",
          "data": {
            "text/html": [
              "<div>\n",
              "<style scoped>\n",
              "    .dataframe tbody tr th:only-of-type {\n",
              "        vertical-align: middle;\n",
              "    }\n",
              "\n",
              "    .dataframe tbody tr th {\n",
              "        vertical-align: top;\n",
              "    }\n",
              "\n",
              "    .dataframe thead th {\n",
              "        text-align: right;\n",
              "    }\n",
              "</style>\n",
              "<table border=\"1\" class=\"dataframe\">\n",
              "  <thead>\n",
              "    <tr style=\"text-align: right;\">\n",
              "      <th></th>\n",
              "      <th>App</th>\n",
              "      <th>Category</th>\n",
              "      <th>Rating</th>\n",
              "      <th>Reviews</th>\n",
              "      <th>Size</th>\n",
              "      <th>Installs</th>\n",
              "      <th>Type</th>\n",
              "      <th>Price</th>\n",
              "      <th>Content Rating</th>\n",
              "      <th>Genres</th>\n",
              "      <th>Last Updated</th>\n",
              "      <th>Current Ver</th>\n",
              "      <th>Android Ver</th>\n",
              "    </tr>\n",
              "  </thead>\n",
              "  <tbody>\n",
              "    <tr>\n",
              "      <th>0</th>\n",
              "      <td>Photo Editor &amp; Candy Camera &amp; Grid &amp; ScrapBook</td>\n",
              "      <td>ART_AND_DESIGN</td>\n",
              "      <td>4.1</td>\n",
              "      <td>159</td>\n",
              "      <td>19M</td>\n",
              "      <td>10,000+</td>\n",
              "      <td>Free</td>\n",
              "      <td>0</td>\n",
              "      <td>Everyone</td>\n",
              "      <td>Art &amp; Design</td>\n",
              "      <td>January 7, 2018</td>\n",
              "      <td>1.0.0</td>\n",
              "      <td>4.0.3 and up</td>\n",
              "    </tr>\n",
              "    <tr>\n",
              "      <th>1</th>\n",
              "      <td>Coloring book moana</td>\n",
              "      <td>ART_AND_DESIGN</td>\n",
              "      <td>3.9</td>\n",
              "      <td>967</td>\n",
              "      <td>14M</td>\n",
              "      <td>500,000+</td>\n",
              "      <td>Free</td>\n",
              "      <td>0</td>\n",
              "      <td>Everyone</td>\n",
              "      <td>Art &amp; Design;Pretend Play</td>\n",
              "      <td>January 15, 2018</td>\n",
              "      <td>2.0.0</td>\n",
              "      <td>4.0.3 and up</td>\n",
              "    </tr>\n",
              "    <tr>\n",
              "      <th>2</th>\n",
              "      <td>U Launcher Lite – FREE Live Cool Themes, Hide ...</td>\n",
              "      <td>ART_AND_DESIGN</td>\n",
              "      <td>4.7</td>\n",
              "      <td>87510</td>\n",
              "      <td>8.7M</td>\n",
              "      <td>5,000,000+</td>\n",
              "      <td>Free</td>\n",
              "      <td>0</td>\n",
              "      <td>Everyone</td>\n",
              "      <td>Art &amp; Design</td>\n",
              "      <td>August 1, 2018</td>\n",
              "      <td>1.2.4</td>\n",
              "      <td>4.0.3 and up</td>\n",
              "    </tr>\n",
              "    <tr>\n",
              "      <th>3</th>\n",
              "      <td>Sketch - Draw &amp; Paint</td>\n",
              "      <td>ART_AND_DESIGN</td>\n",
              "      <td>4.5</td>\n",
              "      <td>215644</td>\n",
              "      <td>25M</td>\n",
              "      <td>50,000,000+</td>\n",
              "      <td>Free</td>\n",
              "      <td>0</td>\n",
              "      <td>Teen</td>\n",
              "      <td>Art &amp; Design</td>\n",
              "      <td>June 8, 2018</td>\n",
              "      <td>Varies with device</td>\n",
              "      <td>4.2 and up</td>\n",
              "    </tr>\n",
              "    <tr>\n",
              "      <th>4</th>\n",
              "      <td>Pixel Draw - Number Art Coloring Book</td>\n",
              "      <td>ART_AND_DESIGN</td>\n",
              "      <td>4.3</td>\n",
              "      <td>967</td>\n",
              "      <td>2.8M</td>\n",
              "      <td>100,000+</td>\n",
              "      <td>Free</td>\n",
              "      <td>0</td>\n",
              "      <td>Everyone</td>\n",
              "      <td>Art &amp; Design;Creativity</td>\n",
              "      <td>June 20, 2018</td>\n",
              "      <td>1.1</td>\n",
              "      <td>4.4 and up</td>\n",
              "    </tr>\n",
              "  </tbody>\n",
              "</table>\n",
              "</div>"
            ],
            "text/plain": [
              "                                                 App        Category  Rating  \\\n",
              "0     Photo Editor & Candy Camera & Grid & ScrapBook  ART_AND_DESIGN     4.1   \n",
              "1                                Coloring book moana  ART_AND_DESIGN     3.9   \n",
              "2  U Launcher Lite – FREE Live Cool Themes, Hide ...  ART_AND_DESIGN     4.7   \n",
              "3                              Sketch - Draw & Paint  ART_AND_DESIGN     4.5   \n",
              "4              Pixel Draw - Number Art Coloring Book  ART_AND_DESIGN     4.3   \n",
              "\n",
              "  Reviews  Size     Installs  Type Price Content Rating  \\\n",
              "0     159   19M      10,000+  Free     0       Everyone   \n",
              "1     967   14M     500,000+  Free     0       Everyone   \n",
              "2   87510  8.7M   5,000,000+  Free     0       Everyone   \n",
              "3  215644   25M  50,000,000+  Free     0           Teen   \n",
              "4     967  2.8M     100,000+  Free     0       Everyone   \n",
              "\n",
              "                      Genres      Last Updated         Current Ver  \\\n",
              "0               Art & Design   January 7, 2018               1.0.0   \n",
              "1  Art & Design;Pretend Play  January 15, 2018               2.0.0   \n",
              "2               Art & Design    August 1, 2018               1.2.4   \n",
              "3               Art & Design      June 8, 2018  Varies with device   \n",
              "4    Art & Design;Creativity     June 20, 2018                 1.1   \n",
              "\n",
              "    Android Ver  \n",
              "0  4.0.3 and up  \n",
              "1  4.0.3 and up  \n",
              "2  4.0.3 and up  \n",
              "3    4.2 and up  \n",
              "4    4.4 and up  "
            ]
          },
          "metadata": {
            "tags": []
          },
          "execution_count": 30
        }
      ]
    },
    {
      "metadata": {
        "id": "gJ0dmZEDaFAT",
        "colab_type": "text"
      },
      "cell_type": "markdown",
      "source": [
        "## z- стандартизація"
      ]
    },
    {
      "metadata": {
        "id": "QFw8F5cLXdVz",
        "colab_type": "code",
        "outputId": "b8a14090-f59f-49a4-d922-138020787634",
        "colab": {
          "base_uri": "https://localhost:8080/",
          "height": 564
        }
      },
      "cell_type": "code",
      "source": [
        "df['Reviews'] = pd.to_numeric(df['Reviews'], errors='coerce')\n",
        "df['Rating'] = pd.to_numeric(df['Rating'], errors='coerce')\n",
        "cols = ['Rating','Reviews']\n",
        "for col in cols:\n",
        "    col_zscore = col + '_zsc'\n",
        "    df[col_zscore] = (df[col] - df[col].mean())/df[col].std(ddof=0)\n",
        "df.head()"
      ],
      "execution_count": 0,
      "outputs": [
        {
          "output_type": "execute_result",
          "data": {
            "text/html": [
              "<div>\n",
              "<style scoped>\n",
              "    .dataframe tbody tr th:only-of-type {\n",
              "        vertical-align: middle;\n",
              "    }\n",
              "\n",
              "    .dataframe tbody tr th {\n",
              "        vertical-align: top;\n",
              "    }\n",
              "\n",
              "    .dataframe thead th {\n",
              "        text-align: right;\n",
              "    }\n",
              "</style>\n",
              "<table border=\"1\" class=\"dataframe\">\n",
              "  <thead>\n",
              "    <tr style=\"text-align: right;\">\n",
              "      <th></th>\n",
              "      <th>App</th>\n",
              "      <th>Category</th>\n",
              "      <th>Rating</th>\n",
              "      <th>Reviews</th>\n",
              "      <th>Size</th>\n",
              "      <th>Installs</th>\n",
              "      <th>Type</th>\n",
              "      <th>Price</th>\n",
              "      <th>Content Rating</th>\n",
              "      <th>Genres</th>\n",
              "      <th>Last Updated</th>\n",
              "      <th>Current Ver</th>\n",
              "      <th>Android Ver</th>\n",
              "      <th>Rating_zsc</th>\n",
              "      <th>Reviews_zsc</th>\n",
              "    </tr>\n",
              "  </thead>\n",
              "  <tbody>\n",
              "    <tr>\n",
              "      <th>0</th>\n",
              "      <td>Photo Editor &amp; Candy Camera &amp; Grid &amp; ScrapBook</td>\n",
              "      <td>ART_AND_DESIGN</td>\n",
              "      <td>4.1</td>\n",
              "      <td>159.0</td>\n",
              "      <td>19M</td>\n",
              "      <td>10,000+</td>\n",
              "      <td>Free</td>\n",
              "      <td>0</td>\n",
              "      <td>Everyone</td>\n",
              "      <td>Art &amp; Design</td>\n",
              "      <td>January 7, 2018</td>\n",
              "      <td>1.0.0</td>\n",
              "      <td>4.0.3 and up</td>\n",
              "      <td>-0.173684</td>\n",
              "      <td>-0.151657</td>\n",
              "    </tr>\n",
              "    <tr>\n",
              "      <th>1</th>\n",
              "      <td>Coloring book moana</td>\n",
              "      <td>ART_AND_DESIGN</td>\n",
              "      <td>3.9</td>\n",
              "      <td>967.0</td>\n",
              "      <td>14M</td>\n",
              "      <td>500,000+</td>\n",
              "      <td>Free</td>\n",
              "      <td>0</td>\n",
              "      <td>Everyone</td>\n",
              "      <td>Art &amp; Design;Pretend Play</td>\n",
              "      <td>January 15, 2018</td>\n",
              "      <td>2.0.0</td>\n",
              "      <td>4.0.3 and up</td>\n",
              "      <td>-0.545845</td>\n",
              "      <td>-0.151381</td>\n",
              "    </tr>\n",
              "    <tr>\n",
              "      <th>2</th>\n",
              "      <td>U Launcher Lite – FREE Live Cool Themes, Hide ...</td>\n",
              "      <td>ART_AND_DESIGN</td>\n",
              "      <td>4.7</td>\n",
              "      <td>87510.0</td>\n",
              "      <td>8.7M</td>\n",
              "      <td>5,000,000+</td>\n",
              "      <td>Free</td>\n",
              "      <td>0</td>\n",
              "      <td>Everyone</td>\n",
              "      <td>Art &amp; Design</td>\n",
              "      <td>August 1, 2018</td>\n",
              "      <td>1.2.4</td>\n",
              "      <td>4.0.3 and up</td>\n",
              "      <td>0.942797</td>\n",
              "      <td>-0.121820</td>\n",
              "    </tr>\n",
              "    <tr>\n",
              "      <th>3</th>\n",
              "      <td>Sketch - Draw &amp; Paint</td>\n",
              "      <td>ART_AND_DESIGN</td>\n",
              "      <td>4.5</td>\n",
              "      <td>215644.0</td>\n",
              "      <td>25M</td>\n",
              "      <td>50,000,000+</td>\n",
              "      <td>Free</td>\n",
              "      <td>0</td>\n",
              "      <td>Teen</td>\n",
              "      <td>Art &amp; Design</td>\n",
              "      <td>June 8, 2018</td>\n",
              "      <td>Varies with device</td>\n",
              "      <td>4.2 and up</td>\n",
              "      <td>0.570637</td>\n",
              "      <td>-0.078053</td>\n",
              "    </tr>\n",
              "    <tr>\n",
              "      <th>4</th>\n",
              "      <td>Pixel Draw - Number Art Coloring Book</td>\n",
              "      <td>ART_AND_DESIGN</td>\n",
              "      <td>4.3</td>\n",
              "      <td>967.0</td>\n",
              "      <td>2.8M</td>\n",
              "      <td>100,000+</td>\n",
              "      <td>Free</td>\n",
              "      <td>0</td>\n",
              "      <td>Everyone</td>\n",
              "      <td>Art &amp; Design;Creativity</td>\n",
              "      <td>June 20, 2018</td>\n",
              "      <td>1.1</td>\n",
              "      <td>4.4 and up</td>\n",
              "      <td>0.198476</td>\n",
              "      <td>-0.151381</td>\n",
              "    </tr>\n",
              "  </tbody>\n",
              "</table>\n",
              "</div>"
            ],
            "text/plain": [
              "                                                 App        Category  Rating  \\\n",
              "0     Photo Editor & Candy Camera & Grid & ScrapBook  ART_AND_DESIGN     4.1   \n",
              "1                                Coloring book moana  ART_AND_DESIGN     3.9   \n",
              "2  U Launcher Lite – FREE Live Cool Themes, Hide ...  ART_AND_DESIGN     4.7   \n",
              "3                              Sketch - Draw & Paint  ART_AND_DESIGN     4.5   \n",
              "4              Pixel Draw - Number Art Coloring Book  ART_AND_DESIGN     4.3   \n",
              "\n",
              "    Reviews  Size     Installs  Type Price Content Rating  \\\n",
              "0     159.0   19M      10,000+  Free     0       Everyone   \n",
              "1     967.0   14M     500,000+  Free     0       Everyone   \n",
              "2   87510.0  8.7M   5,000,000+  Free     0       Everyone   \n",
              "3  215644.0   25M  50,000,000+  Free     0           Teen   \n",
              "4     967.0  2.8M     100,000+  Free     0       Everyone   \n",
              "\n",
              "                      Genres      Last Updated         Current Ver  \\\n",
              "0               Art & Design   January 7, 2018               1.0.0   \n",
              "1  Art & Design;Pretend Play  January 15, 2018               2.0.0   \n",
              "2               Art & Design    August 1, 2018               1.2.4   \n",
              "3               Art & Design      June 8, 2018  Varies with device   \n",
              "4    Art & Design;Creativity     June 20, 2018                 1.1   \n",
              "\n",
              "    Android Ver  Rating_zsc  Reviews_zsc  \n",
              "0  4.0.3 and up   -0.173684    -0.151657  \n",
              "1  4.0.3 and up   -0.545845    -0.151381  \n",
              "2  4.0.3 and up    0.942797    -0.121820  \n",
              "3    4.2 and up    0.570637    -0.078053  \n",
              "4    4.4 and up    0.198476    -0.151381  "
            ]
          },
          "metadata": {
            "tags": []
          },
          "execution_count": 31
        }
      ]
    },
    {
      "metadata": {
        "id": "7ZKQ6nTNZNT4",
        "colab_type": "code",
        "outputId": "3465d8c7-e5bd-433b-a151-706af9f2431b",
        "colab": {
          "base_uri": "https://localhost:8080/",
          "height": 362
        }
      },
      "cell_type": "code",
      "source": [
        "hist = df.hist(column=['Rating','Rating_zsc'], bins=40) "
      ],
      "execution_count": 0,
      "outputs": [
        {
          "output_type": "display_data",
          "data": {
            "image/png": "[encoded data removed]",
            "text/plain": [
              "<matplotlib.figure.Figure at 0x7fad77011780>"
            ]
          },
          "metadata": {
            "tags": []
          }
        }
      ]
    },
    {
      "metadata": {
        "id": "EPL7yrv6aiYM",
        "colab_type": "text"
      },
      "cell_type": "markdown",
      "source": [
        "## Правило 2х-3х Сігм"
      ]
    },
    {
      "metadata": {
        "id": "wbzZFVY-akrr",
        "colab_type": "code",
        "outputId": "6feb41d5-ae7f-409c-bba8-4963c12fc47f",
        "colab": {
          "base_uri": "https://localhost:8080/",
          "height": 51
        }
      },
      "cell_type": "code",
      "source": [
        "def getSigmaRule(col, num):\n",
        "  exp_ratio = None\n",
        "  if num == 1:\n",
        "    exp_ratio = 0.68\n",
        "  elif num == 2:\n",
        "    exp_ratio = 0.95\n",
        "  elif num == 3:\n",
        "    exp_ratio = 0.997\n",
        "  else:\n",
        "    return print('invalid data')\n",
        "  \n",
        "  lower_bound = df[col].mean()-df[col].std()*num\n",
        "  uppper_bound = df[col].mean()+df[col].std()*num\n",
        "  \n",
        "  valid = df[(df[col] > lower_bound)&(df[col] < uppper_bound)]\n",
        "  ratio = len(valid.index)/len(df.index)\n",
        "  print('We expected '+str(exp_ratio)+' ratio and got this one: ' + str(ratio))\n",
        "  \n",
        "\n",
        "getSigmaRule('Rating', 2)\n",
        "getSigmaRule('Reviews', 3)"
      ],
      "execution_count": 0,
      "outputs": [
        {
          "output_type": "stream",
          "text": [
            "We expected 0.95 ratio and got this one: 0.8234480214002399\n",
            "We expected 0.997 ratio and got this one: 0.9901300618024168\n"
          ],
          "name": "stdout"
        }
      ]
    },
    {
      "metadata": {
        "id": "8-AjzJvlaQ6v",
        "colab_type": "text"
      },
      "cell_type": "markdown",
      "source": [
        "## Довірчі інтвервали для середнього значення (ДІ)"
      ]
    },
    {
      "metadata": {
        "id": "bxJYczATaYQR",
        "colab_type": "code",
        "outputId": "76572883-05ed-480a-f4e3-857c2caa308a",
        "colab": {
          "base_uri": "https://localhost:8080/",
          "height": 51
        }
      },
      "cell_type": "code",
      "source": [
        "import math\n",
        "\n",
        "def get_CI(col, percentage):\n",
        "  coef = None\n",
        "  if percentage == 95:\n",
        "    coef = 1.98\n",
        "  elif percentage == 99:\n",
        "    coef = 2.58\n",
        "  else:\n",
        "    return print('invalid data')\n",
        "  se = df[col].std()/math.sqrt(len(df[col].index))\n",
        "  CI_lower = df[col].mean() - se*coef\n",
        "  CI_upper = df[col].mean() + se*coef\n",
        "  print (str(percentage)+ '% confidence interval for '+col +' is '+ str(CI_lower) + ' - ' + str(CI_upper) )\n",
        "  \n",
        "  \n",
        "get_CI('Reviews', 95)\n",
        "get_CI('Rating', 99)"
      ],
      "execution_count": 0,
      "outputs": [
        {
          "output_type": "stream",
          "text": [
            "95% confidence interval for Reviews is 388477.1454454742 - 499828.64662094647\n",
            "99% confidence interval for Rating is 4.180021266524661 - 4.206655364200224\n"
          ],
          "name": "stdout"
        }
      ]
    },
    {
      "metadata": {
        "id": "uVNB1Mh8Vdyk",
        "colab_type": "text"
      },
      "cell_type": "markdown",
      "source": [
        "## Відповіді на контрольні запитання"
      ]
    },
    {
      "metadata": {
        "id": "13pwhoPpVn9D",
        "colab_type": "text"
      },
      "cell_type": "markdown",
      "source": [
        "1. Що ви знаєте про нормальний розподіл? Які його характеристики?\n",
        "**Нормальний розподіл** — розподіл ймовірностей випадкової величини, що характеризується густиною ймовірності: \n",
        "\n",
        "\\begin{align} \\LARGE\n",
        "  f(x | \\mu, \\sigma) &= \\dfrac{1}{\\sigma \\sqrt{2\\pi}} e^{-\\dfrac{(x-\\mu)^2}{2 \\sigma^2}} \\\\\n",
        "\\end{align}\n",
        "\n",
        "де $\\large \\mu$ — математичне сподівання, $ \\large  \\sigma ^{2}$ — дисперсія випадкової величини. Параметр $\\large \\sigma$ також відомий, як стандартне відхилення. Розподіл із  $\\large \\mu$= 0 та $\\large \\sigma ^{2}$ = 1 називають **стандартним нормальним розподілом**.\n",
        "1. Що таке z-стандартизація? Навіщо вона потрібна? В чому вона вимірюється? І що, скажімо, означає, якщо z-значення = 1.5\n",
        "**z - стандартизація** — (нормалізація даних) - перетворення отриманих даних, у стандартну Z-шкалу (Z-scores) із такими характеристиками:\n",
        "\n",
        "* середнє значення ($M_z$) відтепер буде = 0;\n",
        "* дисперсія і стандартне відхилення ($D_z$) = 1.\n",
        "\n",
        "\n",
        "---\n",
        "\n",
        "\n",
        "3. Для чого потрібна гістограма?\n",
        "Для того щоб краще було видно різницю між кількома групами значень.\n",
        "\n",
        "---\n",
        "\n",
        "\n",
        "4. В чому суть правила 2-3 Сігм?\n",
        "\n",
        " $M_x \\pm \\sigma \\approx 68$% спостережень;\n",
        " $M_x \\pm 2\\sigma \\approx 95$% спостережень;\n",
        " $M_x \\pm 3\\sigma \\approx 100$% спостережень;\n",
        "\n",
        "\n",
        "---\n",
        "\n",
        "\n",
        "5. В чому основна суть ЦГТ?\n",
        "**Центральна гранична теорема** — теорема теорії ймовірностей про збіжність розподілу суми незалежних однаково розподілених випадкових величин до нормального розподілу. Ця теорема підкреслює особливість нормального розподілу в теорії ймовірностей.\n",
        "1. В чому можуть допомогти довірчі інтервали для середнього? Яке їх призначення?\n",
        " Довірчивий інтервал - це  інтервал, у межах якого з заданою довірчою імовірністю можна чекати значення оцінюваної (шуканої) випадкової величини. Застосовується для повнішої оцінки точності в порівнянні з точковою оцінкою.\n",
        "\n",
        "1. Наскільки необхідно змінити межу нашого довірчого інтервалу, щоб збільшити ймовірність включення середнього з генеральної сукупності у нього з 95% до 99%?\n",
        "**Потрібно збільшити на +- 0.6*se.**"
      ]
    }
  ]
}