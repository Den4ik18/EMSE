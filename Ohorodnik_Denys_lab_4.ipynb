{
  "nbformat": 4,
  "nbformat_minor": 0,
  "metadata": {
    "colab": {
      "name": "Ohorodnik Denys lab#4.ipynb",
      "version": "0.3.2",
      "provenance": [],
      "collapsed_sections": [],
      "toc_visible": true,
      "include_colab_link": true
    },
    "kernelspec": {
      "name": "python3",
      "display_name": "Python 3"
    }
  },
  "cells": [
    {
      "cell_type": "markdown",
      "metadata": {
        "id": "view-in-github",
        "colab_type": "text"
      },
      "source": [
        "<a href=\"https://colab.research.google.com/github/Den4ik18/EMSE/blob/master/Ohorodnik_Denys_lab_4.ipynb\" target=\"_parent\"><img src=\"https://colab.research.google.com/assets/colab-badge.svg\" alt=\"Open In Colab\"/></a>"
      ]
    },
    {
      "metadata": {
        "id": "nI_6VxXcFCsR",
        "colab_type": "text"
      },
      "cell_type": "markdown",
      "source": [
        "# Ініціалізація датасету"
      ]
    },
    {
      "metadata": {
        "id": "tRz7_r2BFI_p",
        "colab_type": "code",
        "outputId": "d140a7d2-774b-4ae6-b661-2de2ed952b89",
        "colab": {
          "base_uri": "https://localhost:8080/",
          "height": 564
        }
      },
      "cell_type": "code",
      "source": [
        "# підключимо бібліотеку pandas для обробки даних (вона вже встановлена в Colab)\n",
        "import pandas as pd\n",
        "\n",
        "# зазначимо url звідки ми візьмемо дані\n",
        "url = \"http://www.sharecsv.com/dl/70792028b87f9e5072133ce87c32a8a7/googleplaystore.csv\"\n",
        "\n",
        "# створимо pandas Dataframe з csv-файлу, який ми отримаємо по вищезазначеному url\n",
        "# Dataframe надасть нам необхідні можливості для обробки даних\n",
        "df = pd.read_csv(url)\n",
        "\n",
        "# конвертуємо колонку \"Reviews\" у числові значення.\n",
        "df['Reviews'] = pd.to_numeric(df['Reviews'], errors='coerce')  \n",
        "\n",
        "# відобразимо перші 5 записів у датафреймі\n",
        "df.head()"
      ],
      "execution_count": 0,
      "outputs": [
        {
          "output_type": "execute_result",
          "data": {
            "text/html": [
              "<div>\n",
              "<style scoped>\n",
              "    .dataframe tbody tr th:only-of-type {\n",
              "        vertical-align: middle;\n",
              "    }\n",
              "\n",
              "    .dataframe tbody tr th {\n",
              "        vertical-align: top;\n",
              "    }\n",
              "\n",
              "    .dataframe thead th {\n",
              "        text-align: right;\n",
              "    }\n",
              "</style>\n",
              "<table border=\"1\" class=\"dataframe\">\n",
              "  <thead>\n",
              "    <tr style=\"text-align: right;\">\n",
              "      <th></th>\n",
              "      <th>App</th>\n",
              "      <th>Category</th>\n",
              "      <th>Rating</th>\n",
              "      <th>Reviews</th>\n",
              "      <th>Size</th>\n",
              "      <th>Installs</th>\n",
              "      <th>Type</th>\n",
              "      <th>Price</th>\n",
              "      <th>Content Rating</th>\n",
              "      <th>Genres</th>\n",
              "      <th>Last Updated</th>\n",
              "      <th>Current Ver</th>\n",
              "      <th>Android Ver</th>\n",
              "    </tr>\n",
              "  </thead>\n",
              "  <tbody>\n",
              "    <tr>\n",
              "      <th>0</th>\n",
              "      <td>Photo Editor &amp; Candy Camera &amp; Grid &amp; ScrapBook</td>\n",
              "      <td>ART_AND_DESIGN</td>\n",
              "      <td>4.1</td>\n",
              "      <td>159.0</td>\n",
              "      <td>19M</td>\n",
              "      <td>10,000+</td>\n",
              "      <td>Free</td>\n",
              "      <td>0</td>\n",
              "      <td>Everyone</td>\n",
              "      <td>Art &amp; Design</td>\n",
              "      <td>January 7, 2018</td>\n",
              "      <td>1.0.0</td>\n",
              "      <td>4.0.3 and up</td>\n",
              "    </tr>\n",
              "    <tr>\n",
              "      <th>1</th>\n",
              "      <td>Coloring book moana</td>\n",
              "      <td>ART_AND_DESIGN</td>\n",
              "      <td>3.9</td>\n",
              "      <td>967.0</td>\n",
              "      <td>14M</td>\n",
              "      <td>500,000+</td>\n",
              "      <td>Free</td>\n",
              "      <td>0</td>\n",
              "      <td>Everyone</td>\n",
              "      <td>Art &amp; Design;Pretend Play</td>\n",
              "      <td>January 15, 2018</td>\n",
              "      <td>2.0.0</td>\n",
              "      <td>4.0.3 and up</td>\n",
              "    </tr>\n",
              "    <tr>\n",
              "      <th>2</th>\n",
              "      <td>U Launcher Lite – FREE Live Cool Themes, Hide ...</td>\n",
              "      <td>ART_AND_DESIGN</td>\n",
              "      <td>4.7</td>\n",
              "      <td>87510.0</td>\n",
              "      <td>8.7M</td>\n",
              "      <td>5,000,000+</td>\n",
              "      <td>Free</td>\n",
              "      <td>0</td>\n",
              "      <td>Everyone</td>\n",
              "      <td>Art &amp; Design</td>\n",
              "      <td>August 1, 2018</td>\n",
              "      <td>1.2.4</td>\n",
              "      <td>4.0.3 and up</td>\n",
              "    </tr>\n",
              "    <tr>\n",
              "      <th>3</th>\n",
              "      <td>Sketch - Draw &amp; Paint</td>\n",
              "      <td>ART_AND_DESIGN</td>\n",
              "      <td>4.5</td>\n",
              "      <td>215644.0</td>\n",
              "      <td>25M</td>\n",
              "      <td>50,000,000+</td>\n",
              "      <td>Free</td>\n",
              "      <td>0</td>\n",
              "      <td>Teen</td>\n",
              "      <td>Art &amp; Design</td>\n",
              "      <td>June 8, 2018</td>\n",
              "      <td>Varies with device</td>\n",
              "      <td>4.2 and up</td>\n",
              "    </tr>\n",
              "    <tr>\n",
              "      <th>4</th>\n",
              "      <td>Pixel Draw - Number Art Coloring Book</td>\n",
              "      <td>ART_AND_DESIGN</td>\n",
              "      <td>4.3</td>\n",
              "      <td>967.0</td>\n",
              "      <td>2.8M</td>\n",
              "      <td>100,000+</td>\n",
              "      <td>Free</td>\n",
              "      <td>0</td>\n",
              "      <td>Everyone</td>\n",
              "      <td>Art &amp; Design;Creativity</td>\n",
              "      <td>June 20, 2018</td>\n",
              "      <td>1.1</td>\n",
              "      <td>4.4 and up</td>\n",
              "    </tr>\n",
              "  </tbody>\n",
              "</table>\n",
              "</div>"
            ],
            "text/plain": [
              "                                                 App        Category  Rating  \\\n",
              "0     Photo Editor & Candy Camera & Grid & ScrapBook  ART_AND_DESIGN     4.1   \n",
              "1                                Coloring book moana  ART_AND_DESIGN     3.9   \n",
              "2  U Launcher Lite – FREE Live Cool Themes, Hide ...  ART_AND_DESIGN     4.7   \n",
              "3                              Sketch - Draw & Paint  ART_AND_DESIGN     4.5   \n",
              "4              Pixel Draw - Number Art Coloring Book  ART_AND_DESIGN     4.3   \n",
              "\n",
              "    Reviews  Size     Installs  Type Price Content Rating  \\\n",
              "0     159.0   19M      10,000+  Free     0       Everyone   \n",
              "1     967.0   14M     500,000+  Free     0       Everyone   \n",
              "2   87510.0  8.7M   5,000,000+  Free     0       Everyone   \n",
              "3  215644.0   25M  50,000,000+  Free     0           Teen   \n",
              "4     967.0  2.8M     100,000+  Free     0       Everyone   \n",
              "\n",
              "                      Genres      Last Updated         Current Ver  \\\n",
              "0               Art & Design   January 7, 2018               1.0.0   \n",
              "1  Art & Design;Pretend Play  January 15, 2018               2.0.0   \n",
              "2               Art & Design    August 1, 2018               1.2.4   \n",
              "3               Art & Design      June 8, 2018  Varies with device   \n",
              "4    Art & Design;Creativity     June 20, 2018                 1.1   \n",
              "\n",
              "    Android Ver  \n",
              "0  4.0.3 and up  \n",
              "1  4.0.3 and up  \n",
              "2  4.0.3 and up  \n",
              "3    4.2 and up  \n",
              "4    4.4 and up  "
            ]
          },
          "metadata": {
            "tags": []
          },
          "execution_count": 2
        }
      ]
    },
    {
      "metadata": {
        "id": "gw95hc7qFLVf",
        "colab_type": "text"
      },
      "cell_type": "markdown",
      "source": [
        "# Кореляція та p-рівень значимості"
      ]
    },
    {
      "metadata": {
        "id": "JD-GfdvuGcy6",
        "colab_type": "code",
        "outputId": "9b0e0785-7345-4b4d-af9b-d8840767ad21",
        "colab": {
          "base_uri": "https://localhost:8080/",
          "height": 34
        }
      },
      "cell_type": "code",
      "source": [
        "# Приклад обчислення коефіцієнта кореляції Пірсона та p-рівня значимості за допомогою scipy.stats\n",
        "import pandas as pd \n",
        "from scipy import stats\n",
        "\n",
        "#Заміна всім NaN на 0.0\n",
        "df['Reviews'].fillna(0.0,inplace=True)\n",
        "df['Rating'].fillna(0.0,inplace=True)\n",
        "\n",
        "\n",
        "ddf = pd.DataFrame(df, columns = ['Reviews','Rating'])\n",
        "ddf.fillna(0,inplace = True)\n",
        "ddf.head()\n",
        "pearson_coef, p_value = stats.pearsonr(ddf['Reviews'], ddf['Rating'])\n",
        "print(\"Pearson Correlation Coefficient: \", pearson_coef, \"and a P-value of:\", p_value) \n",
        "#Дане p-значення говорить там про те що нульова гіпотеза відхиляється.\n",
        "#Чим менше p-рівень, тим більш значущою називається тестова статистика. \n",
        "#Чим менше p-рівень, тим сильніше підстави відкинути нульову гіпотезу.\n",
        "#Адже p-значення більше рівня значимості \n"
      ],
      "execution_count": 0,
      "outputs": [
        {
          "output_type": "stream",
          "text": [
            "Pearson Correlation Coefficient:  0.07808948415524017 and a P-value of: 3.8821040494744044e-16\n"
          ],
          "name": "stdout"
        }
      ]
    },
    {
      "metadata": {
        "id": "uua4LuVTJ61g",
        "colab_type": "code",
        "outputId": "0f207092-b081-492e-b941-aa5233f1e9d8",
        "colab": {
          "base_uri": "https://localhost:8080/",
          "height": 34
        }
      },
      "cell_type": "code",
      "source": [
        "#Перевірка чи вірно попередній метод рахує Correlation Coefficient\n",
        "try:\n",
        "    from itertools import imap\n",
        "except ImportError:\n",
        "    imap=map\n",
        "# from itertools import imap\n",
        "\n",
        "def pearsonr(x, y):\n",
        "  # Assume len(x) == len(y)\n",
        "  n = len(x)\n",
        "  sum_x = float(sum(x))\n",
        "  sum_y = float(sum(y))\n",
        "  sum_x_sq = sum(map(lambda x: pow(x, 2), x))\n",
        "  sum_y_sq = sum(map(lambda x: pow(x, 2), y))\n",
        "  psum = sum(imap(lambda x, y: x * y, x, y))\n",
        "  num = psum - (sum_x * sum_y/n)\n",
        "  den = pow((sum_x_sq - pow(sum_x, 2) / n) * (sum_y_sq - pow(sum_y, 2) / n), 0.5)\n",
        "  if den == 0: return 0\n",
        "  return num / den\n",
        "pearsonr(df['Rating'].tolist(), df['Reviews'].tolist())"
      ],
      "execution_count": 0,
      "outputs": [
        {
          "output_type": "execute_result",
          "data": {
            "text/plain": [
              "0.07808948415523882"
            ]
          },
          "metadata": {
            "tags": []
          },
          "execution_count": 3
        }
      ]
    },
    {
      "metadata": {
        "id": "uBZoPwAMGzpU",
        "colab_type": "text"
      },
      "cell_type": "markdown",
      "source": [
        "# Регресія"
      ]
    },
    {
      "metadata": {
        "id": "wEM-fzRsG34C",
        "colab_type": "code",
        "outputId": "df5e6a43-27e5-4551-b5b7-bdd123e33ff5",
        "colab": {
          "base_uri": "https://localhost:8080/",
          "height": 377
        }
      },
      "cell_type": "code",
      "source": [
        "import numpy as np\n",
        "import random\n",
        "from sklearn import datasets, linear_model\n",
        "import matplotlib.pyplot as plt\n",
        "\n",
        "#Заміна NaN на 0.0\n",
        "df['Reviews'].fillna(0.0, inplace=True)\n",
        "df['Rating'].fillna(0.0, inplace=True)\n",
        "x = df['Reviews'].values\n",
        "y = df['Rating'].values\n",
        "\n",
        "length = int(len(x)*20/100)\n",
        "\n",
        "X = x.reshape(df['Reviews'].shape[0], 1)\n",
        "Y = y.reshape(df['Rating'].shape[0], 1)\n",
        "\n",
        "# Розділимо дані Reviews на вибірку для тренування моделі та її перевірку\n",
        "\n",
        "X_train = X[:3000]\n",
        "# 20% значень з колонки Reviews\n",
        "X_test = X[np.random.choice(X.shape[0], length, replace=False), :]\n",
        " \n",
        "# Розділимо дані по Rating на вибірку для тренування моделі та її перевірку\n",
        "Y_train = Y[:3000]\n",
        "# 20% значень з колонки Rating\n",
        "Y_test = Y[np.random.choice(Y.shape[0], length, replace=False), :]\n",
        "\n",
        "\n",
        "regr = linear_model.LinearRegression()\n",
        "regr.fit(X, Y) # без розподілу на train/test\n",
        "\n",
        "plt.title('Результат регресії на всьому об\\'єму даних')\n",
        "plt.xlabel('Reviews')\n",
        "plt.ylabel('Rating')\n",
        "\n",
        "plt.scatter(X_test, Y_test,  color='black')\n",
        "plt.plot(X, regr.predict(X), color='blue', linewidth=3)\n",
        "plt.show()"
      ],
      "execution_count": 0,
      "outputs": [
        {
          "output_type": "display_data",
          "data": {
            "image/png": "[encoded data removed]",
            "text/plain": [
              "<matplotlib.figure.Figure at 0x7fc3af868da0>"
            ]
          },
          "metadata": {
            "tags": []
          }
        }
      ]
    },
    {
      "metadata": {
        "id": "pI3iLGvKIPzF",
        "colab_type": "code",
        "outputId": "3ee30d29-b66d-4e8d-c0ce-e59a2adc4190",
        "colab": {
          "base_uri": "https://localhost:8080/",
          "height": 393
        }
      },
      "cell_type": "code",
      "source": [
        "# Create linear regression object\n",
        "regr = linear_model.LinearRegression()\n",
        " \n",
        "# Train the model using the training sets\n",
        "regr.fit(X_train, Y_train)\n",
        " \n",
        "# Plot outputs\n",
        "plt.title('Результат регресії на тестовій вибірці')\n",
        "plt.plot(X_test, regr.predict(X_test), color='red',linewidth=3)"
      ],
      "execution_count": 0,
      "outputs": [
        {
          "output_type": "execute_result",
          "data": {
            "text/plain": [
              "[<matplotlib.lines.Line2D at 0x7fc3b1b63438>]"
            ]
          },
          "metadata": {
            "tags": []
          },
          "execution_count": 19
        },
        {
          "output_type": "display_data",
          "data": {
            "image/png": "[encoded data removed]",
            "text/plain": [
              "<matplotlib.figure.Figure at 0x7fc3b1b5ab70>"
            ]
          },
          "metadata": {
            "tags": []
          }
        }
      ]
    },
    {
      "metadata": {
        "id": "nbn5GEflIhZJ",
        "colab_type": "text"
      },
      "cell_type": "markdown",
      "source": [
        "# Контрольні запитання\n",
        "1. Опишіть заради якої мети використовують кореляцію та регресію. Які сильні сторони цих інструментів? Які \"підводні камені\"?"
      ]
    },
    {
      "metadata": {
        "id": "oQc2KWr5ziff",
        "colab_type": "text"
      },
      "cell_type": "markdown",
      "source": [
        "Кореляцію застосовують для того щоб досліджувати взаємозв'язок двох кількісних змінних. Регресію застосовують для того щоб досліджувати звязок між двома або більше значенями.\n",
        "\"Підводні камені\": \n",
        "1.   Помилка кореляції: додатний або від'ємний (позитивний/негативний) взаємозв'язок між 2 змінними не обов'язоково вказує, на причинно-наслідковий зв'язок.\n",
        "2.   Вплив третьої змінної на дві інші.\n",
        "3.   Трохи важко підібрати 2 параметри для регресії, щоб вони максимально адекватно відображали взаємозв'язок 2х кількісних змінних.\n",
        "4.   Небезпечність викидів критичних значень."
      ]
    }
  ]
}